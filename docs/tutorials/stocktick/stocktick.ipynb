{
 "cells": [
  {
   "cell_type": "markdown",
   "metadata": {},
   "source": [
    "# Downloading and Analyzing Stock Data with fintorch\n",
    "In this tutorial, we'll explore how to use the `fintorch` Python package to download historical stock data and prepare it for machine learning tasks. Specifically, we'll focus on Apple (AAPL), Microsoft (MSFT), and Google (GOOG) stocks from January 1, 2015, to June 30, 2023. We'll also discuss how `fintorch` integrates with the `neuralforecast` library by providing a `TimeSeriesDataset` that's compatible with its data structures, making it easier to organize data for training, validation, and testing.\n"
   ]
  },
  {
   "cell_type": "markdown",
   "metadata": {},
   "source": [
    "## Overview\n",
    "\n",
    "\n",
    "The `fintorch` library is designed for financial data analysis and machine learning applications. It simplifies the process of downloading, storing, and preparing financial datasets. Under the hood, it uses `yfinance` to retrieve data from Yahoo Finance, ensuring a reliable and comprehensive data source.\n",
    "\n",
    "One of the key features of `fintorch` is that it provides data in a `TimeSeriesDataset` format compatible with the `neuralforecast` library. This compatibility streamlines the process of organizing time series data for machine learning models, including handling train/validation/test splits.\n"
   ]
  },
  {
   "cell_type": "markdown",
   "metadata": {},
   "source": [
    "## Step-by-Step Explanation\n",
    "\n",
    "Let's break down the code to understand how each part contributes to downloading and analyzing the stock data."
   ]
  },
  {
   "cell_type": "code",
   "execution_count": 1,
   "metadata": {},
   "outputs": [],
   "source": [
    "import logging\n",
    "from datetime import date\n",
    "from pathlib import Path\n",
    "\n",
    "from fintorch.datasets import stockticker"
   ]
  },
  {
   "cell_type": "markdown",
   "metadata": {},
   "source": [
    "- **Importing Modules**:\n",
    "  - `logging`: For logging information during execution.\n",
    "  - `date` from `datetime`: To specify the start and end dates for the data.\n",
    "  - `Path` from `pathlib`: To handle file system paths.\n",
    "  - `stockticker` from `fintorch.datasets`: Contains the `StockTicker` class for handling stock data."
   ]
  },
  {
   "cell_type": "code",
   "execution_count": 2,
   "metadata": {},
   "outputs": [],
   "source": [
    "# Set logging level to INFO\n",
    "logging.basicConfig(level=logging.INFO)"
   ]
  },
  {
   "cell_type": "markdown",
   "metadata": {},
   "source": [
    "- **Setting Logging Level**: Configures the logging system to display messages of level `INFO` and higher.\n"
   ]
  },
  {
   "cell_type": "code",
   "execution_count": 3,
   "metadata": {},
   "outputs": [],
   "source": [
    "# Parameters\n",
    "tickers = [\"AAPL\", \"MSFT\", \"GOOG\"]\n",
    "data_path = Path(\"~/.fintorch_data/stocktickers/\").expanduser()\n",
    "start_date = date(2015, 1, 1)\n",
    "end_date = date(2023, 6, 30)"
   ]
  },
  {
   "cell_type": "markdown",
   "metadata": {},
   "source": [
    "- **Defining Parameters**:\n",
    "  - `tickers`: A list of stock ticker symbols we're interested in.\n",
    "  - `data_path`: The directory path where the stock data will be stored locally.\n",
    "  - `start_date` and `end_date`: Define the time range for the historical data."
   ]
  },
  {
   "cell_type": "code",
   "execution_count": 4,
   "metadata": {},
   "outputs": [],
   "source": [
    "# Create a dictionary mapping from tickers to index\n",
    "ticker_index = {ticker: index for index, ticker in enumerate(tickers)}"
   ]
  },
  {
   "cell_type": "markdown",
   "metadata": {},
   "source": [
    "- **Mapping Tickers to Indices**:\n",
    "  - Creates a dictionary that maps each ticker symbol to a unique index. This can be useful for referencing and organizing data.\n"
   ]
  },
  {
   "cell_type": "code",
   "execution_count": 5,
   "metadata": {},
   "outputs": [
    {
     "name": "stderr",
     "output_type": "stream",
     "text": [
      "INFO:root:StockTicker dataset initialization\n",
      "INFO:root:force reloading stock data from yahoo finance\n",
      "[*********************100%%**********************]  3 of 3 completed\n",
      "INFO:root:All datsets loaded sucessfully\n",
      "INFO:root:loaded dataset:TimeSeriesDataset(n_data=8,655, n_groups=3)\n"
     ]
    }
   ],
   "source": [
    "# Load the stock dataset\n",
    "stockdata = stockticker.StockTicker(\n",
    "    data_path,\n",
    "    tickers=tickers,\n",
    "    start_date=start_date,\n",
    "    end_date=end_date,\n",
    "    mapping=ticker_index,\n",
    "    force_reload=True,\n",
    ")"
   ]
  },
  {
   "cell_type": "markdown",
   "metadata": {},
   "source": [
    "- **Loading the Stock Data**:\n",
    "  - Instantiates the `StockTicker` class with the specified parameters.\n",
    "  - **Parameters Explained**:\n",
    "    - `data_path`: Where the data will be stored.\n",
    "    - `tickers`: The list of stock symbols.\n",
    "    - `start_date` and `end_date`: The date range for the data.\n",
    "    - `mapping`: The ticker-to-index mapping.\n",
    "    - `force_reload=True`: Forces the data to be re-downloaded even if it already exists locally.\n",
    "  - **Under the Hood**:\n",
    "    - The `StockTicker` class uses `yfinance` to fetch the stock data from Yahoo Finance.\n",
    "    - It organizes the data into a `TimeSeriesDataset` compatible with the `neuralforecast` library."
   ]
  },
  {
   "cell_type": "code",
   "execution_count": 6,
   "metadata": {},
   "outputs": [
    {
     "name": "stdout",
     "output_type": "stream",
     "text": [
      "                               ds            y    unique_id\n",
      "count                        8655  8655.000000  8655.000000\n",
      "mean   2020-02-26 03:56:05.407000   118.096947     1.000000\n",
      "min           2015-01-02 00:00:00    20.697262     0.000000\n",
      "25%           2017-11-10 00:00:00    49.313992     0.000000\n",
      "50%           2020-09-24 00:00:00   103.036682     1.000000\n",
      "75%           2022-07-15 00:00:00   155.169968     2.000000\n",
      "max           2023-06-29 00:00:00   344.776672     2.000000\n",
      "std                           NaN    80.441103     0.816544\n"
     ]
    }
   ],
   "source": [
    "print(stockdata.df_timeseries_dataset.to_pandas().describe())"
   ]
  },
  {
   "cell_type": "markdown",
   "metadata": {},
   "source": [
    "# Integration with `neuralforecast`\n",
    "\n",
    "### TimeSeriesDataset Compatibility\n",
    "\n",
    "The `stockdata.df_timeseries_dataset` provided by `fintorch` is designed to be compatible with the `TimeSeriesDataset` format used by the `neuralforecast` library. This compatibility is significant because it:\n",
    "\n",
    "- **Simplifies Data Preparation**: The data is already organized in a way that's suitable for machine learning models, reducing the need for additional data wrangling.\n",
    "- **Eases Train/Validation/Test Splits**: `neuralforecast` has built-in methods for splitting datasets, and having data in the compatible format allows you to leverage these methods directly.\n",
    "- **Facilitates Model Training and Evaluation**: Consistent data formatting ensures smoother integration with `neuralforecast` models and evaluation metrics.\n"
   ]
  },
  {
   "cell_type": "markdown",
   "metadata": {},
   "source": [
    "### Example of Using TimeSeriesDataset with `neuralforecast`\n",
    "\n",
    "Here's how you might proceed to use the dataset with `neuralforecast`:"
   ]
  },
  {
   "cell_type": "code",
   "execution_count": 7,
   "metadata": {},
   "outputs": [
    {
     "name": "stdout",
     "output_type": "stream",
     "text": [
      "             ds           y  unique_id\n",
      "0    2022-01-03  179.076599          0\n",
      "1    2022-01-04  176.803833          0\n",
      "2    2022-01-05  172.100861          0\n",
      "3    2022-01-06  169.227921          0\n",
      "4    2022-01-07  169.395172          0\n",
      "...         ...         ...        ...\n",
      "8650 2023-06-23  122.718620          2\n",
      "8651 2023-06-26  118.798248          2\n",
      "8652 2023-06-27  118.718452          2\n",
      "8653 2023-06-28  120.783379          2\n",
      "8654 2023-06-29  119.716003          2\n",
      "\n",
      "[8655 rows x 3 columns]\n"
     ]
    }
   ],
   "source": [
    "print(stockdata.df_timeseries_dataset.to_pandas())"
   ]
  },
  {
   "cell_type": "code",
   "execution_count": null,
   "metadata": {},
   "outputs": [
    {
     "name": "stderr",
     "output_type": "stream",
     "text": [
      "Seed set to 1\n",
      "GPU available: True (cuda), used: True\n",
      "TPU available: False, using: 0 TPU cores\n",
      "HPU available: False, using: 0 HPUs\n",
      "You are using a CUDA device ('NVIDIA GeForce RTX 3090') that has Tensor Cores. To properly utilize them, you should set `torch.set_float32_matmul_precision('medium' | 'high')` which will trade-off precision for performance. For more details, read https://pytorch.org/docs/stable/generated/torch.set_float32_matmul_precision.html#torch.set_float32_matmul_precision\n",
      "LOCAL_RANK: 0 - CUDA_VISIBLE_DEVICES: [0]\n",
      "\n",
      "  | Name         | Type          | Params | Mode \n",
      "-------------------------------------------------------\n",
      "0 | loss         | MAE           | 0      | train\n",
      "1 | padder_train | ConstantPad1d | 0      | train\n",
      "2 | scaler       | TemporalNorm  | 0      | train\n",
      "3 | blocks       | ModuleList    | 2.4 M  | train\n",
      "-------------------------------------------------------\n",
      "2.4 M     Trainable params\n",
      "555       Non-trainable params\n",
      "2.4 M     Total params\n",
      "9.786     Total estimated model params size (MB)\n"
     ]
    },
    {
     "name": "stdout",
     "output_type": "stream",
     "text": [
      "Epoch 631:   0%|          | 0/1 [00:00<?, ?it/s, v_num=12, train_loss_step=2.310, train_loss_epoch=2.310, valid_loss=2.390]         "
     ]
    }
   ],
   "source": [
    "from neuralforecast import NeuralForecast\n",
    "from neuralforecast.models import NBEATS\n",
    "\n",
    "# Initialize the model\n",
    "model = NBEATS(input_size=30, h=7)\n",
    "\n",
    "# Create a NeuralForecast object\n",
    "nf = NeuralForecast(models=[model], freq='D')\n",
    "\n",
    "# Define validation and test sizes\n",
    "val_size = 100  # Number of days for validation\n",
    "test_size = 100  # Number of days for testing\n",
    "\n",
    "# Perform cross-validation\n",
    "Y_hat_df = nf.cross_validation(\n",
    "    df=stockdata.df_timeseries_dataset.to_pandas(),\n",
    "    val_size=val_size,\n",
    "    test_size=test_size,\n",
    "    n_windows=None  # Uses expanding window if None\n",
    ")\n"
   ]
  },
  {
   "cell_type": "markdown",
   "metadata": {},
   "source": [
    "Plot output"
   ]
  },
  {
   "cell_type": "code",
   "execution_count": null,
   "metadata": {},
   "outputs": [],
   "source": [
    "import matplotlib.pyplot as plt\n",
    "\n",
    "plt.figure(figsize=(10, 5))\n",
    "\n",
    "# Iterate through each unique stock using the index\n",
    "for unique_id in Y_hat_df.index.unique():\n",
    "    stock_data = Y_hat_df.loc[unique_id] # Index-based selection\n",
    "    stock_data = stock_data.reset_index().groupby('ds').mean().reset_index()\n",
    "\n",
    "    # Plot true values and forecast for the current stock\n",
    "    plt.plot(stock_data['ds'], stock_data['y'], label=f'True ({tickers[unique_id]})')\n",
    "    plt.plot(stock_data['ds'], stock_data['NBEATS'], label=f'Forecast ({tickers[unique_id]})', linestyle='--')  # Dashed line for forecast\n",
    "\n",
    "    # Mark the train-test split for this stock (if applicable)\n",
    "    # Assuming the split point is the same for all stocks\n",
    "    if len(stock_data) > 12:  \n",
    "        plt.axvline(stock_data['ds'].iloc[-12], color='black', linestyle='dotted', alpha=0.7)  # Dotted line for split\n",
    "\n",
    "# General plot formatting\n",
    "plt.xlabel('Timestamp [t]')\n",
    "plt.ylabel('Stock value')\n",
    "plt.title('True vs. Forecast Values per Stock')\n",
    "plt.grid(alpha=0.4)  \n",
    "\n",
    "# Adjust legend to fit better\n",
    "plt.legend(bbox_to_anchor=(1.05, 1), loc='upper left') \n",
    "\n",
    "plt.tight_layout() \n",
    "plt.show()"
   ]
  },
  {
   "cell_type": "markdown",
   "metadata": {},
   "source": [
    "## Understanding `yfinance`\n",
    "\n",
    "`yfinance` is a Python library that provides a convenient way to download historical market data from Yahoo Finance. It supports a wide range of data, including:\n",
    "\n",
    "- Historical prices\n",
    "- Dividends\n",
    "- Splits\n",
    "- Financial statements\n",
    "\n",
    "In this tutorial, `fintorch` leverages `yfinance` to handle the data retrieval of stocktick data, making it seamless to obtain and work with financial datasets."
   ]
  },
  {
   "cell_type": "markdown",
   "metadata": {},
   "source": [
    "## Conclusion\n",
    "\n",
    "By following this tutorial, you've learned how to:\n",
    "\n",
    "- Set up logging for better debugging and information tracking.\n",
    "- Specify parameters for data retrieval, including tickers and date ranges.\n",
    "- Use `fintorch` and `yfinance` to download historical stock data.\n",
    "- Obtain a `TimeSeriesDataset` compatible with `neuralforecast`, simplifying the process of preparing data for machine learning models.\n",
    "\n",
    "This foundational knowledge can be expanded upon for more complex analyses, such as building financial models or integrating advanced machine learning algorithms.\n",
    "\n",
    "## Next Steps\n",
    "\n",
    "- **Explore the Data**: Use visualization libraries like Matplotlib or Seaborn to plot the stock prices and observe trends.\n",
    "- **Feature Engineering**: Create additional features such as moving averages, volatility indicators, or technical analysis signals.\n",
    "- **Model Training**: Use the prepared `TimeSeriesDataset` to train machine learning models using `neuralforecast` or other libraries like TensorFlow or PyTorch.\n",
    "- **Model Evaluation**: Implement evaluation metrics to assess the performance of your models on validation and test sets.\n",
    "\n"
   ]
  }
 ],
 "metadata": {
  "language_info": {
   "name": "python"
  }
 },
 "nbformat": 4,
 "nbformat_minor": 2
}
