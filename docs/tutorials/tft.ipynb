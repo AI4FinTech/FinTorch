{
 "cells": [
  {
   "cell_type": "markdown",
   "metadata": {},
   "source": [
    "## Temporal Fusion Transformers\n",
    "<a target=\"_blank\" href=\"https://colab.research.google.com/github/AI4FinTech/FinTorch/tree/main/docs/tutorials/tft/tft.ipynb\">\n",
    "  <img src=\"https://colab.research.google.com/assets/colab-badge.svg\" alt=\"Open In Colab\"/>\n",
    "</a>\n",
    "\n",
    "The Temporal Fusion Transformer (TFT) is a cutting-edge deep learning model designed for interpretable, multi-horizon time series forecasting. Developed by Google in collaboration with the University of Oxford, TFT combines the strengths of recurrent layers for local processing and self-attention layers for capturing long-term dependencies [[1](https://arxiv.org/abs/1912.09363)][[2](https://github.com/NVIDIA/DeepLearningExamples/blob/master/PyTorch/Forecasting/TFT/README.md)]. This hybrid architecture allows TFT to effectively handle complex temporal relationships and select relevant features, making it highly versatile across various forecasting scenarios [[1](https://arxiv.org/abs/1912.09363)]. Its ability to provide interpretable insights into temporal dynamics and deliver high-performance predictions sets it apart as a powerful tool for time series analysis [[1](https://arxiv.org/abs/1912.09363)][[2](https://github.com/NVIDIA/DeepLearningExamples/blob/master/PyTorch/Forecasting/TFT/README.md)].\n"
   ]
  },
  {
   "cell_type": "markdown",
   "metadata": {},
   "source": [
    "## Datasets\n",
    "In this tutorial, we will explore the application of the Temporal Fusion Transformer (TFT) model to various time series datasets, including synthetic, air passenger, electricity consumption, and stock market data. The TFT model, known for its ability to handle complex temporal relationships and provide interpretable insights, is particularly well-suited for these diverse datasets. We will start with the SimpleSyntheticDataset, which generates synthetic time series data with configurable trend, seasonality, and noise components, making it ideal for testing forecasting models. Next, we will use the Air Passenger dataset, which contains monthly totals of international airline passengers from 1949 to 1960, normalized for effective model training. We will also analyze the PJM Hourly Energy Consumption dataset, which provides hourly power consumption data from a regional transmission organization in the United States. Finally, we will apply the TFT model to stock market data obtained from Yahoo Finance, allowing us to forecast stock prices based on historical trends. By the end of this tutorial, you will have a comprehensive understanding of how to leverage the TFT model for various time series forecasting tasks."
   ]
  },
  {
   "cell_type": "markdown",
   "metadata": {},
   "source": [
    "### Simple Synthetic\n",
    "First, let's import the necessary libraries and define our hyperparameters.\n",
    "\n"
   ]
  },
  {
   "cell_type": "code",
   "execution_count": 1,
   "metadata": {},
   "outputs": [
    {
     "name": "stderr",
     "output_type": "stream",
     "text": [
      "/Users/mboersma/Documents/AI4Fintech/FinTorch/.venv/lib/python3.11/site-packages/tqdm/auto.py:21: TqdmWarning: IProgress not found. Please update jupyter and ipywidgets. See https://ipywidgets.readthedocs.io/en/stable/user_install.html\n",
      "  from .autonotebook import tqdm as notebook_tqdm\n",
      "2025-03-31 12:10:09,000\tINFO util.py:154 -- Missing packages: ['ipywidgets']. Run `pip install -U ipywidgets`, then restart the notebook server for rich notebook output.\n",
      "2025-03-31 12:10:10,055\tINFO util.py:154 -- Missing packages: ['ipywidgets']. Run `pip install -U ipywidgets`, then restart the notebook server for rich notebook output.\n"
     ]
    }
   ],
   "source": [
    "import os\n",
    "import lightning as L\n",
    "import matplotlib.pyplot as plt\n",
    "import torch\n",
    "from lightning.pytorch.callbacks import EarlyStopping\n",
    "from fintorch.datasets.synthetic import SimpleSyntheticDataModule\n",
    "from fintorch.models.timeseries.tft import (\n",
    "    GatedResidualNetwork,\n",
    "    InterpretableMultiHeadAttention,\n",
    "    TemporalFusionTransformer,\n",
    "    TemporalFusionTransformerModule,\n",
    "    VariableSelectionNetwork,\n",
    ")\n",
    "\n",
    "# Define hyperparameters\n",
    "input_dimensions = 10\n",
    "hidden_dimensions = 64\n",
    "dropout = 0.1\n",
    "context_size = 5\n",
    "batch_size = 32\n",
    "sequence_length = 10\n",
    "num_inputs = 3\n",
    "number_of_heads = 4"
   ]
  },
  {
   "cell_type": "markdown",
   "metadata": {},
   "source": [
    "We will start by using the Gated Residual Network (GRN). The GRN is a key component of the TFT model, allowing it to handle complex temporal relationships.\n",
    "\n"
   ]
  },
  {
   "cell_type": "code",
   "execution_count": 2,
   "metadata": {},
   "outputs": [
    {
     "name": "stdout",
     "output_type": "stream",
     "text": [
      "GRN Output shape: torch.Size([32, 10, 64])\n"
     ]
    }
   ],
   "source": [
    "# Example usage of GatedResidualNetwork\n",
    "context = torch.randn(batch_size, context_size)\n",
    "grn = GatedResidualNetwork(\n",
    "    input_size=input_dimensions,\n",
    "    hidden_size=hidden_dimensions,\n",
    "    output_size=hidden_dimensions,\n",
    "    dropout=dropout,\n",
    "    context_size=context_size,\n",
    ")\n",
    "grn_input = torch.randn(batch_size, sequence_length, input_dimensions)\n",
    "grn_output = grn(grn_input, context)\n",
    "print(\"GRN Output shape:\", grn_output.shape)"
   ]
  },
  {
   "cell_type": "markdown",
   "metadata": {},
   "source": [
    "Next, we will use the Variable Selection Network (VSN) to select relevant features from the input data."
   ]
  },
  {
   "cell_type": "code",
   "execution_count": 3,
   "metadata": {},
   "outputs": [
    {
     "name": "stdout",
     "output_type": "stream",
     "text": [
      "Shape of x_a: torch.Size([32, 10, 3])\n",
      "Shape of x_b: torch.Size([32, 10, 4])\n",
      "Shape of x_c: torch.Size([32, 10, 5])\n",
      "VSN output shape: torch.Size([32, 10, 64])\n"
     ]
    }
   ],
   "source": [
    "# Example usage of VariableSelectionNetwork\n",
    "variable_selection_network = VariableSelectionNetwork(\n",
    "    {\"a\": 3, \"b\": 4, \"c\": 5}, hidden_dimensions, dropout, context_size\n",
    ")\n",
    "\n",
    "# Create example input data\n",
    "x_a = torch.randn(batch_size, sequence_length, 3)\n",
    "x_b = torch.randn(batch_size, sequence_length, 4)\n",
    "x_c = torch.randn(batch_size, sequence_length, 5)\n",
    "inputs = {\"a\": x_a, \"b\": x_b, \"c\": x_c}\n",
    "\n",
    "print(\"Shape of x_a:\", x_a.shape)\n",
    "print(\"Shape of x_b:\", x_b.shape)\n",
    "print(\"Shape of x_c:\", x_c.shape)\n",
    "\n",
    "# Call the forward method\n",
    "vsn_output = variable_selection_network(inputs, context)\n",
    "\n",
    "# Print the output shape\n",
    "print(\"VSN output shape:\", vsn_output.shape)"
   ]
  },
  {
   "cell_type": "markdown",
   "metadata": {},
   "source": [
    "We will then use the Interpretable Multi-Head Attention mechanism to capture long-term dependencies in the data."
   ]
  },
  {
   "cell_type": "code",
   "execution_count": 4,
   "metadata": {},
   "outputs": [
    {
     "name": "stdout",
     "output_type": "stream",
     "text": [
      "Attention Output shape: torch.Size([32, 10, 64])\n",
      "Attentions shape: torch.Size([32, 4, 10, 10])\n"
     ]
    }
   ],
   "source": [
    "# Example usage of InterpretableMultiHeadAttention\n",
    "attention_module = InterpretableMultiHeadAttention(\n",
    "    number_of_heads, hidden_dimensions, dropout\n",
    ")\n",
    "\n",
    "# Generate example input tensors\n",
    "q = grn_output  # Use output of GRN as query\n",
    "k = grn_output  # Use output of GRN as key\n",
    "v = grn_output  # Use output of GRN as value\n",
    "\n",
    "# Create a mask (optional)\n",
    "mask = torch.tril(torch.ones(sequence_length, sequence_length)).bool()\n",
    "\n",
    "# Call the forward method of InterpretableMultiHeadAttention\n",
    "attention_output, attentions = attention_module(q, k, v, mask)\n",
    "\n",
    "# Print the output shapes\n",
    "print(\"Attention Output shape:\", attention_output.shape)\n",
    "print(\"Attentions shape:\", attentions.shape)"
   ]
  },
  {
   "cell_type": "markdown",
   "metadata": {},
   "source": [
    "We can also use the output of the VSN as input to the attention mechanism."
   ]
  },
  {
   "cell_type": "code",
   "execution_count": 5,
   "metadata": {},
   "outputs": [
    {
     "name": "stdout",
     "output_type": "stream",
     "text": [
      "Attention Output shape after the vsn: torch.Size([32, 10, 64])\n",
      "Attentions shape after the vsn: torch.Size([32, 4, 10, 10])\n"
     ]
    }
   ],
   "source": [
    "# Example of using the InterpretableMultiHeadAttention after the variable selection network\n",
    "q = vsn_output  # Using the output of the vsn.\n",
    "k = vsn_output  # Using the output of the vsn.\n",
    "v = vsn_output  # Using the output of the vsn.\n",
    "\n",
    "attention_output, attentions = attention_module(q, k, v, mask)\n",
    "\n",
    "# Print the output shapes\n",
    "print(\"Attention Output shape after the vsn:\", attention_output.shape)\n",
    "print(\"Attentions shape after the vsn:\", attentions.shape)"
   ]
  },
  {
   "cell_type": "markdown",
   "metadata": {},
   "source": [
    "Finally, let's visualize the attention maps to understand how the model is attending to different parts of the input sequence."
   ]
  },
  {
   "cell_type": "code",
   "execution_count": 6,
   "metadata": {},
   "outputs": [
    {
     "data": {
      "image/png": "[encoded data removed]",
      "text/plain": [
       "<Figure size 2000x500 with 5 Axes>"
      ]
     },
     "metadata": {},
     "output_type": "display_data"
    }
   ],
   "source": [
    "# Example of plotting the attention maps per head\n",
    "batch_index = 0\n",
    "fig, axes = plt.subplots(\n",
    "    1, number_of_heads, figsize=(5 * number_of_heads, 5), constrained_layout=True\n",
    ")\n",
    "\n",
    "for head in range(number_of_heads):\n",
    "    attention_map = attentions[batch_index, :, head, :].detach().cpu().numpy()\n",
    "    ax = axes[head] if number_of_heads > 1 else axes\n",
    "\n",
    "    # Plot the attention map as a heatmap\n",
    "    im = ax.imshow(attention_map, cmap=\"viridis\")\n",
    "\n",
    "    # Set labels and title\n",
    "    ax.set_xlabel(\"Key Sequence Position\")\n",
    "    if head == 0:\n",
    "        ax.set_ylabel(\"Query Sequence Position\")\n",
    "    ax.set_title(f\"Attention Map - Head {head+1}\")\n",
    "\n",
    "fig.colorbar(im, ax=axes.ravel().tolist(), shrink=0.7, label=\"Attention Weight\")\n",
    "plt.show()"
   ]
  },
  {
   "cell_type": "markdown",
   "metadata": {},
   "source": [
    "Next, we will train the TFT model."
   ]
  },
  {
   "cell_type": "code",
   "execution_count": 7,
   "metadata": {},
   "outputs": [],
   "source": [
    "import os\n",
    "import lightning as L\n",
    "import matplotlib.pyplot as plt\n",
    "import torch\n",
    "from lightning.pytorch.callbacks import EarlyStopping\n",
    "from fintorch.datasets.synthetic import SimpleSyntheticDataModule\n",
    "from fintorch.models.timeseries.tft import (\n",
    "    GatedResidualNetwork,\n",
    "    InterpretableMultiHeadAttention,\n",
    "    TemporalFusionTransformer,\n",
    "    TemporalFusionTransformerModule,\n",
    "    VariableSelectionNetwork,\n",
    ")\n",
    "\n",
    "# Define hyperparameters\n",
    "input_dimensions = 10\n",
    "hidden_dimensions = 64\n",
    "dropout = 0.1\n",
    "context_size = 5\n",
    "batch_size = 32\n",
    "sequence_length = 10\n",
    "num_inputs = 3\n",
    "number_of_heads = 4"
   ]
  },
  {
   "cell_type": "markdown",
   "metadata": {},
   "source": [
    "We will start by using the Temporal Fusion Transformer (TFT) model. The TFT model is designed to handle complex temporal relationships and provide interpretable insights into time series data."
   ]
  },
  {
   "cell_type": "code",
   "execution_count": 8,
   "metadata": {},
   "outputs": [
    {
     "name": "stdout",
     "output_type": "stream",
     "text": [
      "####### TFT ########\n",
      "TFT Output shape[batch size, horizon, number of targets=1, number of quantiles]: torch.Size([32, 2, 1, 3])\n",
      "past length: 6 future length: 2\n",
      "Attention Weights shape[batch size, heads, sequence length (past length + future length), sequence length (past length + future length)]: torch.Size([32, 4, 8, 8])\n"
     ]
    }
   ],
   "source": [
    "print(\"####### TFT ########\")\n",
    "\n",
    "# Example usage of TemporalFusionTransformer\n",
    "# Define hyperparameters\n",
    "embedding_size_inputs = 64\n",
    "hidden_dimension = 64\n",
    "dropout = 0.1\n",
    "number_of_heads = 4\n",
    "past_inputs = {\"a\": 3, \"b\": 4, \"c\": 5}\n",
    "future_inputs = {\"d\": 2, \"e\": 3}\n",
    "static_inputs = {\"f\": 4, \"g\": 5}\n",
    "quantiles = [0.05, 0.5, 0.95]\n",
    "sequence_length_past = 6\n",
    "sequence_length_future = 2\n",
    "\n",
    "# Create an instance of TemporalFusionTransformer\n",
    "tft_model = TemporalFusionTransformer(\n",
    "    sequence_length_past,\n",
    "    sequence_length_future,\n",
    "    embedding_size_inputs,\n",
    "    hidden_dimension,\n",
    "    dropout,\n",
    "    number_of_heads,\n",
    "    past_inputs,\n",
    "    future_inputs,\n",
    "    static_inputs,\n",
    "    quantiles=quantiles,\n",
    "    batch_size=batch_size,\n",
    "    device=torch.device(\"cuda\" if torch.cuda.is_available() else \"cpu\"),\n",
    ")\n",
    "\n",
    "# Generate example input tensors\n",
    "past_inputs_tensor = {\n",
    "    \"a\": torch.randn(batch_size, sequence_length_past, 3),\n",
    "    \"b\": torch.randn(batch_size, sequence_length_past, 4),\n",
    "    \"c\": torch.randn(batch_size, sequence_length_past, 5),\n",
    "}\n",
    "future_inputs_tensor = {\n",
    "    \"d\": torch.randn(batch_size, sequence_length_future, 2),\n",
    "    \"e\": torch.randn(batch_size, sequence_length_future, 3),\n",
    "}\n",
    "static_inputs_tensor = {\n",
    "    \"f\": torch.randn(batch_size, 4),\n",
    "    \"g\": torch.randn(batch_size, 5),\n",
    "}\n",
    "\n",
    "# Call the forward method of TemporalFusionTransformer\n",
    "tft_output, attention_weights = tft_model(\n",
    "    past_inputs_tensor, future_inputs_tensor, static_inputs_tensor\n",
    ")\n",
    "\n",
    "# Print the output shapes\n",
    "print(\n",
    "    \"TFT Output shape[batch size, horizon, number of targets=1, number of quantiles]:\",\n",
    "    tft_output.shape,\n",
    ")\n",
    "print(f\"past length: {sequence_length_past} future length: {sequence_length_future}\")\n",
    "print(\n",
    "    \"Attention Weights shape[batch size, heads, sequence length (past length + future length),\"\n",
    "    + \" sequence length (past length + future length)]:\",\n",
    "    attention_weights.shape,\n",
    ")"
   ]
  },
  {
   "cell_type": "markdown",
   "metadata": {},
   "source": [
    "Next, we will use the Temporal Fusion Transformer Module (TFT Module), which is a more modular and flexible implementation of the TFT model."
   ]
  },
  {
   "cell_type": "code",
   "execution_count": 9,
   "metadata": {},
   "outputs": [
    {
     "name": "stdout",
     "output_type": "stream",
     "text": [
      "TFT Module Output shape: torch.Size([32, 2, 1, 3])\n",
      "Attention Weights shape: torch.Size([32, 4, 5, 5])\n",
      "Loss: tensor(0.8815, grad_fn=<MeanBackward0>)\n",
      "Loss: tensor(0.8599, grad_fn=<MeanBackward0>)\n",
      "Loss: tensor(0.8553, grad_fn=<MeanBackward0>)\n",
      "Prediction: torch.Size([32, 2, 1, 3])\n"
     ]
    },
    {
     "name": "stderr",
     "output_type": "stream",
     "text": [
      "/Users/mboersma/Documents/AI4Fintech/FinTorch/.venv/lib/python3.11/site-packages/lightning/pytorch/core/module.py:441: You are trying to `self.log()` but the `self.trainer` reference is not registered on the model yet. This is most likely because the model hasn't been passed to the `Trainer`\n"
     ]
    }
   ],
   "source": [
    "# Example usage of TemporalFusionTransformerModule\n",
    "# Define hyperparameters\n",
    "sequence_length_past = 3\n",
    "number_of_future_inputs = 2\n",
    "embedding_size_inputs = 64\n",
    "hidden_dimension = 64\n",
    "dropout = 0.1\n",
    "number_of_heads = 4\n",
    "past_inputs = {\"a\": 3, \"b\": 4, \"c\": 5}\n",
    "future_inputs = {\"d\": 2, \"e\": 3}\n",
    "static_inputs = {\"f\": 4, \"g\": 5}\n",
    "sequence_length_future = 2\n",
    "\n",
    "# Create an instance of TemporalFusionTransformerModule\n",
    "tft_module = TemporalFusionTransformerModule(\n",
    "    sequence_length_past,\n",
    "    sequence_length_future,\n",
    "    embedding_size_inputs,\n",
    "    hidden_dimension,\n",
    "    dropout,\n",
    "    number_of_heads,\n",
    "    past_inputs,\n",
    "    future_inputs,\n",
    "    static_inputs,\n",
    "    quantiles=quantiles,\n",
    "    batch_size=batch_size,\n",
    "    device=torch.device(\"cuda\" if torch.cuda.is_available() else \"cpu\"),\n",
    ")\n",
    "\n",
    "# Generate example input tensors\n",
    "past_inputs_tensor = {\n",
    "    \"a\": torch.randn(batch_size, sequence_length_past, 3),\n",
    "    \"b\": torch.randn(batch_size, sequence_length_past, 4),\n",
    "    \"c\": torch.randn(batch_size, sequence_length_past, 5),\n",
    "}\n",
    "future_inputs_tensor = {\n",
    "    \"d\": torch.randn(batch_size, sequence_length_future, 2),\n",
    "    \"e\": torch.randn(batch_size, sequence_length_future, 3),\n",
    "}\n",
    "static_inputs_tensor = {\n",
    "    \"f\": torch.randn(batch_size, 4),\n",
    "    \"g\": torch.randn(batch_size, 5),\n",
    "}\n",
    "target = torch.randn(batch_size, sequence_length_future).float()\n",
    "\n",
    "# Create a batch\n",
    "batch = (past_inputs_tensor, future_inputs_tensor, static_inputs_tensor, target)\n",
    "\n",
    "# Call the forward method of TemporalFusionTransformerModule\n",
    "tft_module_output, attention_weights = tft_module(\n",
    "    past_inputs_tensor, future_inputs_tensor, static_inputs_tensor\n",
    ")\n",
    "\n",
    "# Print the output shapes\n",
    "print(\"TFT Module Output shape:\", tft_module_output.shape)\n",
    "print(\"Attention Weights shape:\", attention_weights.shape)\n",
    "\n",
    "# Call the training step\n",
    "loss = tft_module.training_step(batch, 0)\n",
    "print(\"Loss:\", loss)\n",
    "\n",
    "# Call the validation step\n",
    "loss = tft_module.validation_step(batch, 0)\n",
    "print(\"Loss:\", loss)\n",
    "\n",
    "# Call the test step\n",
    "loss = tft_module.test_step(batch, 0)\n",
    "print(\"Loss:\", loss)\n",
    "\n",
    "# Call the predict step\n",
    "output = tft_module.predict_step(batch, 0)\n",
    "print(\"Prediction:\", output.shape)"
   ]
  },
  {
   "cell_type": "markdown",
   "metadata": {},
   "source": [
    "Finally, we will train the TFT Module using the SimpleSyntheticDataModule, which generates synthetic time series data for training, validation, and testing."
   ]
  },
  {
   "cell_type": "code",
   "execution_count": 11,
   "metadata": {},
   "outputs": [
    {
     "data": {
      "image/png": "[encoded data removed]",
      "text/plain": [
       "<Figure size 1500x500 with 1 Axes>"
      ]
     },
     "metadata": {},
     "output_type": "display_data"
    },
    {
     "name": "stderr",
     "output_type": "stream",
     "text": [
      "GPU available: True (mps), used: True\n",
      "TPU available: False, using: 0 TPU cores\n",
      "HPU available: False, using: 0 HPUs\n",
      "\n",
      "  | Name      | Type                      | Params | Mode \n",
      "----------------------------------------------------------------\n",
      "0 | tft_model | TemporalFusionTransformer | 75.9 K | train\n",
      "----------------------------------------------------------------\n",
      "75.9 K    Trainable params\n",
      "0         Non-trainable params\n",
      "75.9 K    Total params\n",
      "0.304     Total estimated model params size (MB)\n",
      "140       Modules in train mode\n",
      "0         Modules in eval mode\n"
     ]
    },
    {
     "name": "stdout",
     "output_type": "stream",
     "text": [
      "Epoch 0: 100%|██████████| 31/31 [00:18<00:00,  1.65it/s, v_num=1]          "
     ]
    },
    {
     "name": "stderr",
     "output_type": "stream",
     "text": [
      "`Trainer.fit` stopped: `max_epochs=1` reached.\n"
     ]
    },
    {
     "name": "stdout",
     "output_type": "stream",
     "text": [
      "Epoch 0: 100%|██████████| 31/31 [00:18<00:00,  1.64it/s, v_num=1]\n"
     ]
    },
    {
     "name": "stderr",
     "output_type": "stream",
     "text": [
      "/Users/mboersma/Documents/AI4Fintech/FinTorch/.venv/lib/python3.11/site-packages/lightning/pytorch/trainer/connectors/data_connector.py:420: Consider setting `persistent_workers=True` in 'test_dataloader' to speed up the dataloader worker initialization.\n"
     ]
    },
    {
     "name": "stdout",
     "output_type": "stream",
     "text": [
      "Testing DataLoader 0: 100%|██████████| 2/2 [00:00<00:00, 63.77it/s]\n"
     ]
    },
    {
     "data": {
      "text/html": [
       "<pre style=\"white-space:pre;overflow-x:auto;line-height:normal;font-family:Menlo,'DejaVu Sans Mono',consolas,'Courier New',monospace\">┏━━━━━━━━━━━━━━━━━━━━━━━━━━━┳━━━━━━━━━━━━━━━━━━━━━━━━━━━┓\n",
       "┃<span style=\"font-weight: bold\">        Test metric        </span>┃<span style=\"font-weight: bold\">       DataLoader 0        </span>┃\n",
       "┡━━━━━━━━━━━━━━━━━━━━━━━━━━━╇━━━━━━━━━━━━━━━━━━━━━━━━━━━┩\n",
       "│<span style=\"color: #008080; text-decoration-color: #008080\">         test_loss         </span>│<span style=\"color: #800080; text-decoration-color: #800080\">    6.9318037033081055     </span>│\n",
       "└───────────────────────────┴───────────────────────────┘\n",
       "</pre>\n"
      ],
      "text/plain": [
       "┏━━━━━━━━━━━━━━━━━━━━━━━━━━━┳━━━━━━━━━━━━━━━━━━━━━━━━━━━┓\n",
       "┃\u001b[1m \u001b[0m\u001b[1m       Test metric       \u001b[0m\u001b[1m \u001b[0m┃\u001b[1m \u001b[0m\u001b[1m      DataLoader 0       \u001b[0m\u001b[1m \u001b[0m┃\n",
       "┡━━━━━━━━━━━━━━━━━━━━━━━━━━━╇━━━━━━━━━━━━━━━━━━━━━━━━━━━┩\n",
       "│\u001b[36m \u001b[0m\u001b[36m        test_loss        \u001b[0m\u001b[36m \u001b[0m│\u001b[35m \u001b[0m\u001b[35m   6.9318037033081055    \u001b[0m\u001b[35m \u001b[0m│\n",
       "└───────────────────────────┴───────────────────────────┘\n"
      ]
     },
     "metadata": {},
     "output_type": "display_data"
    },
    {
     "data": {
      "text/plain": [
       "[{'test_loss': 6.9318037033081055}]"
      ]
     },
     "execution_count": 11,
     "metadata": {},
     "output_type": "execute_result"
    }
   ],
   "source": [
    "# Define hyperparameters\n",
    "static_length = 2\n",
    "past_inputs = 1\n",
    "future_inputs = 1\n",
    "noise_level = 5\n",
    "trend_slope = 0.1\n",
    "seasonality_amplitude = 10\n",
    "seasonality_period = 100\n",
    "batch_size = 32\n",
    "\n",
    "number_of_past_inputs = 24\n",
    "number_of_future_inputs = 12\n",
    "embedding_size_inputs = hidden_dimension = 32\n",
    "dropout = 0.5\n",
    "number_of_heads = 1\n",
    "past_inputs = {\"past_data\": past_inputs}\n",
    "future_inputs = {\"future_data\": future_inputs}\n",
    "static_inputs = {\"static_data\": static_length}\n",
    "\n",
    "# Create an instance of TemporalFusionTransformerModule\n",
    "tft_module = TemporalFusionTransformerModule(\n",
    "    number_of_past_inputs,\n",
    "    number_of_future_inputs,\n",
    "    embedding_size_inputs,\n",
    "    hidden_dimension,\n",
    "    dropout,\n",
    "    number_of_heads,\n",
    "    past_inputs,\n",
    "    future_inputs,\n",
    "    static_inputs,\n",
    "    batch_size=batch_size,\n",
    "    device=torch.device(\"cuda\" if torch.cuda.is_available() else \"cpu\"),\n",
    ")\n",
    "\n",
    "# Create an instance of SimpleSyntheticDataModule\n",
    "data_module = SimpleSyntheticDataModule(\n",
    "    train_length=1000,\n",
    "    val_length=100,\n",
    "    test_length=100,\n",
    "    batch_size=batch_size,\n",
    "    noise_level=noise_level,\n",
    "    past_length=number_of_past_inputs,\n",
    "    future_length=number_of_future_inputs,\n",
    "    static_length=static_length,\n",
    "    trend_slope=trend_slope,\n",
    "    seasonality_amplitude=seasonality_amplitude,\n",
    "    seasonality_period=seasonality_period,\n",
    "    workers=os.cpu_count(),\n",
    ")\n",
    "\n",
    "# Set the precision\n",
    "torch.set_float32_matmul_precision(\"medium\")\n",
    "\n",
    "# Prepare the data\n",
    "data_module.setup()\n",
    "\n",
    "plot_all_data = data_module.train_dataset.data\n",
    "\n",
    "# Plot all data\n",
    "plt.figure(figsize=(15, 5))\n",
    "plt.plot(plot_all_data, label=\"All Data\")\n",
    "plt.xlabel(\"Time Step\")\n",
    "plt.ylabel(\"Value\")\n",
    "plt.title(\"All Data\")\n",
    "plt.legend()\n",
    "plt.show()\n",
    "\n",
    "train_dataloader = data_module.train_dataloader()\n",
    "\n",
    "# Create a trainer with TensorBoard for better monitoring\n",
    "early_stopping = EarlyStopping(\"val_loss_epoch\", patience=50)\n",
    "trainer = L.Trainer(max_epochs=1, callbacks=[early_stopping])\n",
    "\n",
    "# Train the model\n",
    "trainer.fit(tft_module, data_module)\n",
    "trainer.test(tft_module, data_module)"
   ]
  },
  {
   "cell_type": "markdown",
   "metadata": {},
   "source": [
    "Next, we take a couple of random batches and plot the predicted values."
   ]
  },
  {
   "cell_type": "code",
   "execution_count": 14,
   "metadata": {},
   "outputs": [
    {
     "name": "stderr",
     "output_type": "stream",
     "text": [
      "/Users/mboersma/Documents/AI4Fintech/FinTorch/.venv/lib/python3.11/site-packages/lightning/pytorch/trainer/connectors/data_connector.py:420: Consider setting `persistent_workers=True` in 'predict_dataloader' to speed up the dataloader worker initialization.\n"
     ]
    },
    {
     "name": "stdout",
     "output_type": "stream",
     "text": [
      "Predicting DataLoader 0: 100%|██████████| 2/2 [00:00<00:00, 86.53it/s]\n"
     ]
    },
    {
     "ename": "AttributeError",
     "evalue": "'SimpleSyntheticDataModule' object has no attribute 'dataset'",
     "output_type": "error",
     "traceback": [
      "\u001b[31m---------------------------------------------------------------------------\u001b[39m",
      "\u001b[31mAttributeError\u001b[39m                            Traceback (most recent call last)",
      "\u001b[36mCell\u001b[39m\u001b[36m \u001b[39m\u001b[32mIn[14]\u001b[39m\u001b[32m, line 21\u001b[39m\n\u001b[32m     17\u001b[39m selected_batch_predictions = all_predictions[batch_idx]\n\u001b[32m     18\u001b[39m _, _, _, selected_batch_target = data_module.test_dataset[batch_idx]\n\u001b[32m     20\u001b[39m selected_batch_predictions_inverse_scaled = (\n\u001b[32m---> \u001b[39m\u001b[32m21\u001b[39m     \u001b[43mdata_module\u001b[49m\u001b[43m.\u001b[49m\u001b[43mdataset\u001b[49m.scaler.inverse_transform(\n\u001b[32m     22\u001b[39m         selected_batch_predictions.reshape(-\u001b[32m1\u001b[39m, selected_batch_predictions.shape[-\u001b[32m1\u001b[39m])\n\u001b[32m     23\u001b[39m     ).reshape(selected_batch_predictions.shape)\n\u001b[32m     24\u001b[39m )\n\u001b[32m     26\u001b[39m selected_batch_target_inverse_scaled = data_module.dataset.scaler.inverse_transform(\n\u001b[32m     27\u001b[39m     selected_batch_target.reshape(-\u001b[32m1\u001b[39m, \u001b[32m1\u001b[39m)\n\u001b[32m     28\u001b[39m ).reshape(selected_batch_target.shape)\n\u001b[32m     30\u001b[39m plt.subplot(\n\u001b[32m     31\u001b[39m     num_batches_to_plot,\n\u001b[32m     32\u001b[39m     \u001b[32m1\u001b[39m,\n\u001b[32m     33\u001b[39m     idx + \u001b[32m1\u001b[39m,\n\u001b[32m     34\u001b[39m )  \u001b[38;5;66;03m# Create subplots\u001b[39;00m\n",
      "\u001b[31mAttributeError\u001b[39m: 'SimpleSyntheticDataModule' object has no attribute 'dataset'"
     ]
    },
    {
     "data": {
      "text/plain": [
       "<Figure size 1500x2500 with 0 Axes>"
      ]
     },
     "metadata": {},
     "output_type": "display_data"
    }
   ],
   "source": [
    "from random import randint\n",
    "# Get predictions\n",
    "predictions = trainer.predict(tft_module, datamodule=data_module)\n",
    "\n",
    "# Concatenate predictions\n",
    "all_predictions = torch.cat(predictions, dim=0)\n",
    "\n",
    "# Number of batches to plot\n",
    "num_batches_to_plot = 5\n",
    "\n",
    "# Plotting\n",
    "plt.figure(figsize=(15, 5 * num_batches_to_plot))  # Adjust figure size\n",
    "\n",
    "for idx in range(0, num_batches_to_plot):\n",
    "    batch_idx = randint(0, len(all_predictions) - 1)\n",
    "\n",
    "    selected_batch_predictions = all_predictions[batch_idx]\n",
    "    _, _, _, selected_batch_target = data_module.test_dataset[batch_idx]\n",
    "\n",
    "    selected_batch_predictions_inverse_scaled = (\n",
    "        data_module.dataset.scaler.inverse_transform(\n",
    "            selected_batch_predictions.reshape(-1, selected_batch_predictions.shape[-1])\n",
    "        ).reshape(selected_batch_predictions.shape)\n",
    "    )\n",
    "\n",
    "    selected_batch_target_inverse_scaled = data_module.dataset.scaler.inverse_transform(\n",
    "        selected_batch_target.reshape(-1, 1)\n",
    "    ).reshape(selected_batch_target.shape)\n",
    "\n",
    "    plt.subplot(\n",
    "        num_batches_to_plot,\n",
    "        1,\n",
    "        idx + 1,\n",
    "    )  # Create subplots\n",
    "\n",
    "    plt.plot(\n",
    "        selected_batch_target_inverse_scaled, label=\"Target\", marker=\"o\", linestyle=\"-\"\n",
    "    )\n",
    "\n",
    "    for i, quantile in enumerate(quantiles):\n",
    "        plt.plot(\n",
    "            selected_batch_predictions_inverse_scaled[:, 0, i],\n",
    "            label=f\"Predicted Quantile {quantile}\",\n",
    "            marker=\"x\",\n",
    "            linestyle=\"--\",\n",
    "        )\n",
    "\n",
    "    plt.xlabel(\"Time Step\")\n",
    "    plt.ylabel(\"Value\")\n",
    "    plt.title(f\"Target vs Predicted Quantiles for Batch {batch_idx + 1}\")\n",
    "    plt.legend()\n",
    "\n",
    "plt.tight_layout()  # Adjust subplot parameters for a tight layout\n",
    "plt.show()\n"
   ]
  },
  {
   "cell_type": "markdown",
   "metadata": {},
   "source": [
    "We now succesfully trained a TFT model on the synthetic dataset"
   ]
  },
  {
   "cell_type": "markdown",
   "metadata": {
    "vscode": {
     "languageId": "bat"
    }
   },
   "source": [
    "### Electricity\n",
    "\n",
    "The electricity dataset is a widely used benchmark for time series forecasting tasks. It contains hourly electricity consumption data from various households, providing a rich and diverse set of temporal patterns. In this tutorial, we will leverage the Temporal Fusion Transformer (TFT) model to forecast electricity consumption. The TFT model's ability to handle complex temporal relationships and provide interpretable insights makes it an excellent choice for this dataset. By the end of this section, you will learn how to preprocess the electricity dataset, train the TFT model, and evaluate its performance on forecasting tasks."
   ]
  },
  {
   "cell_type": "code",
   "execution_count": 17,
   "metadata": {},
   "outputs": [
    {
     "name": "stdout",
     "output_type": "stream",
     "text": [
      "Electricity dataset size: (143206, 2)\n",
      "Electricity dataset size: (143206, 2)\n",
      "Electricity dataset size: (143206, 2)\n",
      "Electricity dataset size: (143206, 2)\n"
     ]
    },
    {
     "data": {
      "image/png": "[encoded data removed]",
      "text/plain": [
       "<Figure size 1500x500 with 1 Axes>"
      ]
     },
     "metadata": {},
     "output_type": "display_data"
    },
    {
     "name": "stderr",
     "output_type": "stream",
     "text": [
      "GPU available: True (mps), used: True\n",
      "TPU available: False, using: 0 TPU cores\n",
      "HPU available: False, using: 0 HPUs\n"
     ]
    },
    {
     "name": "stdout",
     "output_type": "stream",
     "text": [
      "Electricity dataset size: (143206, 2)\n",
      "Electricity dataset size: (143206, 2)\n"
     ]
    },
    {
     "name": "stderr",
     "output_type": "stream",
     "text": [
      "\n",
      "  | Name      | Type                      | Params | Mode \n",
      "----------------------------------------------------------------\n",
      "0 | tft_model | TemporalFusionTransformer | 1.4 M  | train\n",
      "----------------------------------------------------------------\n",
      "1.4 M     Trainable params\n",
      "0         Non-trainable params\n",
      "1.4 M     Total params\n",
      "5.523     Total estimated model params size (MB)\n",
      "100       Modules in train mode\n",
      "0         Modules in eval mode\n"
     ]
    },
    {
     "name": "stdout",
     "output_type": "stream",
     "text": [
      "Electricity dataset size: (143206, 2)\n",
      "Electricity dataset size: (143206, 2)\n",
      "Sanity Checking: |          | 0/? [00:00<?, ?it/s]"
     ]
    },
    {
     "name": "stderr",
     "output_type": "stream",
     "text": [
      "/Users/mboersma/Documents/AI4Fintech/FinTorch/.venv/lib/python3.11/site-packages/lightning/pytorch/trainer/connectors/data_connector.py:420: Consider setting `persistent_workers=True` in 'val_dataloader' to speed up the dataloader worker initialization.\n"
     ]
    },
    {
     "name": "stdout",
     "output_type": "stream",
     "text": [
      "Sanity Checking DataLoader 0:   0%|          | 0/2 [00:00<?, ?it/s]"
     ]
    },
    {
     "ename": "RuntimeError",
     "evalue": "Placeholder storage has not been allocated on MPS device!",
     "output_type": "error",
     "traceback": [
      "\u001b[31m---------------------------------------------------------------------------\u001b[39m",
      "\u001b[31mRuntimeError\u001b[39m                              Traceback (most recent call last)",
      "\u001b[36mCell\u001b[39m\u001b[36m \u001b[39m\u001b[32mIn[17]\u001b[39m\u001b[32m, line 76\u001b[39m\n\u001b[32m     69\u001b[39m trainer = L.Trainer(\n\u001b[32m     70\u001b[39m     max_epochs=\u001b[32m1\u001b[39m,\n\u001b[32m     71\u001b[39m     callbacks=[early_stopping],\n\u001b[32m     72\u001b[39m     gradient_clip_val=\u001b[32m0.01\u001b[39m,\n\u001b[32m     73\u001b[39m )\n\u001b[32m     75\u001b[39m \u001b[38;5;66;03m# Train the model\u001b[39;00m\n\u001b[32m---> \u001b[39m\u001b[32m76\u001b[39m \u001b[43mtrainer\u001b[49m\u001b[43m.\u001b[49m\u001b[43mfit\u001b[49m\u001b[43m(\u001b[49m\u001b[43mtft_module\u001b[49m\u001b[43m,\u001b[49m\u001b[43m \u001b[49m\u001b[43mdata_module\u001b[49m\u001b[43m)\u001b[49m\n\u001b[32m     78\u001b[39m trainer.test(tft_module, data_module)\n",
      "\u001b[36mFile \u001b[39m\u001b[32m~/Documents/AI4Fintech/FinTorch/.venv/lib/python3.11/site-packages/lightning/pytorch/trainer/trainer.py:539\u001b[39m, in \u001b[36mTrainer.fit\u001b[39m\u001b[34m(self, model, train_dataloaders, val_dataloaders, datamodule, ckpt_path)\u001b[39m\n\u001b[32m    537\u001b[39m \u001b[38;5;28mself\u001b[39m.state.status = TrainerStatus.RUNNING\n\u001b[32m    538\u001b[39m \u001b[38;5;28mself\u001b[39m.training = \u001b[38;5;28;01mTrue\u001b[39;00m\n\u001b[32m--> \u001b[39m\u001b[32m539\u001b[39m \u001b[43mcall\u001b[49m\u001b[43m.\u001b[49m\u001b[43m_call_and_handle_interrupt\u001b[49m\u001b[43m(\u001b[49m\n\u001b[32m    540\u001b[39m \u001b[43m    \u001b[49m\u001b[38;5;28;43mself\u001b[39;49m\u001b[43m,\u001b[49m\u001b[43m \u001b[49m\u001b[38;5;28;43mself\u001b[39;49m\u001b[43m.\u001b[49m\u001b[43m_fit_impl\u001b[49m\u001b[43m,\u001b[49m\u001b[43m \u001b[49m\u001b[43mmodel\u001b[49m\u001b[43m,\u001b[49m\u001b[43m \u001b[49m\u001b[43mtrain_dataloaders\u001b[49m\u001b[43m,\u001b[49m\u001b[43m \u001b[49m\u001b[43mval_dataloaders\u001b[49m\u001b[43m,\u001b[49m\u001b[43m \u001b[49m\u001b[43mdatamodule\u001b[49m\u001b[43m,\u001b[49m\u001b[43m \u001b[49m\u001b[43mckpt_path\u001b[49m\n\u001b[32m    541\u001b[39m \u001b[43m\u001b[49m\u001b[43m)\u001b[49m\n",
      "\u001b[36mFile \u001b[39m\u001b[32m~/Documents/AI4Fintech/FinTorch/.venv/lib/python3.11/site-packages/lightning/pytorch/trainer/call.py:47\u001b[39m, in \u001b[36m_call_and_handle_interrupt\u001b[39m\u001b[34m(trainer, trainer_fn, *args, **kwargs)\u001b[39m\n\u001b[32m     45\u001b[39m     \u001b[38;5;28;01mif\u001b[39;00m trainer.strategy.launcher \u001b[38;5;129;01mis\u001b[39;00m \u001b[38;5;129;01mnot\u001b[39;00m \u001b[38;5;28;01mNone\u001b[39;00m:\n\u001b[32m     46\u001b[39m         \u001b[38;5;28;01mreturn\u001b[39;00m trainer.strategy.launcher.launch(trainer_fn, *args, trainer=trainer, **kwargs)\n\u001b[32m---> \u001b[39m\u001b[32m47\u001b[39m     \u001b[38;5;28;01mreturn\u001b[39;00m \u001b[43mtrainer_fn\u001b[49m\u001b[43m(\u001b[49m\u001b[43m*\u001b[49m\u001b[43margs\u001b[49m\u001b[43m,\u001b[49m\u001b[43m \u001b[49m\u001b[43m*\u001b[49m\u001b[43m*\u001b[49m\u001b[43mkwargs\u001b[49m\u001b[43m)\u001b[49m\n\u001b[32m     49\u001b[39m \u001b[38;5;28;01mexcept\u001b[39;00m _TunerExitException:\n\u001b[32m     50\u001b[39m     _call_teardown_hook(trainer)\n",
      "\u001b[36mFile \u001b[39m\u001b[32m~/Documents/AI4Fintech/FinTorch/.venv/lib/python3.11/site-packages/lightning/pytorch/trainer/trainer.py:575\u001b[39m, in \u001b[36mTrainer._fit_impl\u001b[39m\u001b[34m(self, model, train_dataloaders, val_dataloaders, datamodule, ckpt_path)\u001b[39m\n\u001b[32m    568\u001b[39m \u001b[38;5;28;01massert\u001b[39;00m \u001b[38;5;28mself\u001b[39m.state.fn \u001b[38;5;129;01mis\u001b[39;00m \u001b[38;5;129;01mnot\u001b[39;00m \u001b[38;5;28;01mNone\u001b[39;00m\n\u001b[32m    569\u001b[39m ckpt_path = \u001b[38;5;28mself\u001b[39m._checkpoint_connector._select_ckpt_path(\n\u001b[32m    570\u001b[39m     \u001b[38;5;28mself\u001b[39m.state.fn,\n\u001b[32m    571\u001b[39m     ckpt_path,\n\u001b[32m    572\u001b[39m     model_provided=\u001b[38;5;28;01mTrue\u001b[39;00m,\n\u001b[32m    573\u001b[39m     model_connected=\u001b[38;5;28mself\u001b[39m.lightning_module \u001b[38;5;129;01mis\u001b[39;00m \u001b[38;5;129;01mnot\u001b[39;00m \u001b[38;5;28;01mNone\u001b[39;00m,\n\u001b[32m    574\u001b[39m )\n\u001b[32m--> \u001b[39m\u001b[32m575\u001b[39m \u001b[38;5;28;43mself\u001b[39;49m\u001b[43m.\u001b[49m\u001b[43m_run\u001b[49m\u001b[43m(\u001b[49m\u001b[43mmodel\u001b[49m\u001b[43m,\u001b[49m\u001b[43m \u001b[49m\u001b[43mckpt_path\u001b[49m\u001b[43m=\u001b[49m\u001b[43mckpt_path\u001b[49m\u001b[43m)\u001b[49m\n\u001b[32m    577\u001b[39m \u001b[38;5;28;01massert\u001b[39;00m \u001b[38;5;28mself\u001b[39m.state.stopped\n\u001b[32m    578\u001b[39m \u001b[38;5;28mself\u001b[39m.training = \u001b[38;5;28;01mFalse\u001b[39;00m\n",
      "\u001b[36mFile \u001b[39m\u001b[32m~/Documents/AI4Fintech/FinTorch/.venv/lib/python3.11/site-packages/lightning/pytorch/trainer/trainer.py:982\u001b[39m, in \u001b[36mTrainer._run\u001b[39m\u001b[34m(self, model, ckpt_path)\u001b[39m\n\u001b[32m    977\u001b[39m \u001b[38;5;28mself\u001b[39m._signal_connector.register_signal_handlers()\n\u001b[32m    979\u001b[39m \u001b[38;5;66;03m# ----------------------------\u001b[39;00m\n\u001b[32m    980\u001b[39m \u001b[38;5;66;03m# RUN THE TRAINER\u001b[39;00m\n\u001b[32m    981\u001b[39m \u001b[38;5;66;03m# ----------------------------\u001b[39;00m\n\u001b[32m--> \u001b[39m\u001b[32m982\u001b[39m results = \u001b[38;5;28;43mself\u001b[39;49m\u001b[43m.\u001b[49m\u001b[43m_run_stage\u001b[49m\u001b[43m(\u001b[49m\u001b[43m)\u001b[49m\n\u001b[32m    984\u001b[39m \u001b[38;5;66;03m# ----------------------------\u001b[39;00m\n\u001b[32m    985\u001b[39m \u001b[38;5;66;03m# POST-Training CLEAN UP\u001b[39;00m\n\u001b[32m    986\u001b[39m \u001b[38;5;66;03m# ----------------------------\u001b[39;00m\n\u001b[32m    987\u001b[39m log.debug(\u001b[33mf\u001b[39m\u001b[33m\"\u001b[39m\u001b[38;5;132;01m{\u001b[39;00m\u001b[38;5;28mself\u001b[39m.\u001b[34m__class__\u001b[39m.\u001b[34m__name__\u001b[39m\u001b[38;5;132;01m}\u001b[39;00m\u001b[33m: trainer tearing down\u001b[39m\u001b[33m\"\u001b[39m)\n",
      "\u001b[36mFile \u001b[39m\u001b[32m~/Documents/AI4Fintech/FinTorch/.venv/lib/python3.11/site-packages/lightning/pytorch/trainer/trainer.py:1024\u001b[39m, in \u001b[36mTrainer._run_stage\u001b[39m\u001b[34m(self)\u001b[39m\n\u001b[32m   1022\u001b[39m \u001b[38;5;28;01mif\u001b[39;00m \u001b[38;5;28mself\u001b[39m.training:\n\u001b[32m   1023\u001b[39m     \u001b[38;5;28;01mwith\u001b[39;00m isolate_rng():\n\u001b[32m-> \u001b[39m\u001b[32m1024\u001b[39m         \u001b[38;5;28;43mself\u001b[39;49m\u001b[43m.\u001b[49m\u001b[43m_run_sanity_check\u001b[49m\u001b[43m(\u001b[49m\u001b[43m)\u001b[49m\n\u001b[32m   1025\u001b[39m     \u001b[38;5;28;01mwith\u001b[39;00m torch.autograd.set_detect_anomaly(\u001b[38;5;28mself\u001b[39m._detect_anomaly):\n\u001b[32m   1026\u001b[39m         \u001b[38;5;28mself\u001b[39m.fit_loop.run()\n",
      "\u001b[36mFile \u001b[39m\u001b[32m~/Documents/AI4Fintech/FinTorch/.venv/lib/python3.11/site-packages/lightning/pytorch/trainer/trainer.py:1053\u001b[39m, in \u001b[36mTrainer._run_sanity_check\u001b[39m\u001b[34m(self)\u001b[39m\n\u001b[32m   1050\u001b[39m call._call_callback_hooks(\u001b[38;5;28mself\u001b[39m, \u001b[33m\"\u001b[39m\u001b[33mon_sanity_check_start\u001b[39m\u001b[33m\"\u001b[39m)\n\u001b[32m   1052\u001b[39m \u001b[38;5;66;03m# run eval step\u001b[39;00m\n\u001b[32m-> \u001b[39m\u001b[32m1053\u001b[39m \u001b[43mval_loop\u001b[49m\u001b[43m.\u001b[49m\u001b[43mrun\u001b[49m\u001b[43m(\u001b[49m\u001b[43m)\u001b[49m\n\u001b[32m   1055\u001b[39m call._call_callback_hooks(\u001b[38;5;28mself\u001b[39m, \u001b[33m\"\u001b[39m\u001b[33mon_sanity_check_end\u001b[39m\u001b[33m\"\u001b[39m)\n\u001b[32m   1057\u001b[39m \u001b[38;5;66;03m# reset logger connector\u001b[39;00m\n",
      "\u001b[36mFile \u001b[39m\u001b[32m~/Documents/AI4Fintech/FinTorch/.venv/lib/python3.11/site-packages/lightning/pytorch/loops/utilities.py:179\u001b[39m, in \u001b[36m_no_grad_context.<locals>._decorator\u001b[39m\u001b[34m(self, *args, **kwargs)\u001b[39m\n\u001b[32m    177\u001b[39m     context_manager = torch.no_grad\n\u001b[32m    178\u001b[39m \u001b[38;5;28;01mwith\u001b[39;00m context_manager():\n\u001b[32m--> \u001b[39m\u001b[32m179\u001b[39m     \u001b[38;5;28;01mreturn\u001b[39;00m \u001b[43mloop_run\u001b[49m\u001b[43m(\u001b[49m\u001b[38;5;28;43mself\u001b[39;49m\u001b[43m,\u001b[49m\u001b[43m \u001b[49m\u001b[43m*\u001b[49m\u001b[43margs\u001b[49m\u001b[43m,\u001b[49m\u001b[43m \u001b[49m\u001b[43m*\u001b[49m\u001b[43m*\u001b[49m\u001b[43mkwargs\u001b[49m\u001b[43m)\u001b[49m\n",
      "\u001b[36mFile \u001b[39m\u001b[32m~/Documents/AI4Fintech/FinTorch/.venv/lib/python3.11/site-packages/lightning/pytorch/loops/evaluation_loop.py:144\u001b[39m, in \u001b[36m_EvaluationLoop.run\u001b[39m\u001b[34m(self)\u001b[39m\n\u001b[32m    142\u001b[39m     \u001b[38;5;28mself\u001b[39m.batch_progress.is_last_batch = data_fetcher.done\n\u001b[32m    143\u001b[39m     \u001b[38;5;66;03m# run step hooks\u001b[39;00m\n\u001b[32m--> \u001b[39m\u001b[32m144\u001b[39m     \u001b[38;5;28;43mself\u001b[39;49m\u001b[43m.\u001b[49m\u001b[43m_evaluation_step\u001b[49m\u001b[43m(\u001b[49m\u001b[43mbatch\u001b[49m\u001b[43m,\u001b[49m\u001b[43m \u001b[49m\u001b[43mbatch_idx\u001b[49m\u001b[43m,\u001b[49m\u001b[43m \u001b[49m\u001b[43mdataloader_idx\u001b[49m\u001b[43m,\u001b[49m\u001b[43m \u001b[49m\u001b[43mdataloader_iter\u001b[49m\u001b[43m)\u001b[49m\n\u001b[32m    145\u001b[39m \u001b[38;5;28;01mexcept\u001b[39;00m \u001b[38;5;167;01mStopIteration\u001b[39;00m:\n\u001b[32m    146\u001b[39m     \u001b[38;5;66;03m# this needs to wrap the `*_step` call too (not just `next`) for `dataloader_iter` support\u001b[39;00m\n\u001b[32m    147\u001b[39m     \u001b[38;5;28;01mbreak\u001b[39;00m\n",
      "\u001b[36mFile \u001b[39m\u001b[32m~/Documents/AI4Fintech/FinTorch/.venv/lib/python3.11/site-packages/lightning/pytorch/loops/evaluation_loop.py:433\u001b[39m, in \u001b[36m_EvaluationLoop._evaluation_step\u001b[39m\u001b[34m(self, batch, batch_idx, dataloader_idx, dataloader_iter)\u001b[39m\n\u001b[32m    427\u001b[39m hook_name = \u001b[33m\"\u001b[39m\u001b[33mtest_step\u001b[39m\u001b[33m\"\u001b[39m \u001b[38;5;28;01mif\u001b[39;00m trainer.testing \u001b[38;5;28;01melse\u001b[39;00m \u001b[33m\"\u001b[39m\u001b[33mvalidation_step\u001b[39m\u001b[33m\"\u001b[39m\n\u001b[32m    428\u001b[39m step_args = (\n\u001b[32m    429\u001b[39m     \u001b[38;5;28mself\u001b[39m._build_step_args_from_hook_kwargs(hook_kwargs, hook_name)\n\u001b[32m    430\u001b[39m     \u001b[38;5;28;01mif\u001b[39;00m \u001b[38;5;129;01mnot\u001b[39;00m using_dataloader_iter\n\u001b[32m    431\u001b[39m     \u001b[38;5;28;01melse\u001b[39;00m (dataloader_iter,)\n\u001b[32m    432\u001b[39m )\n\u001b[32m--> \u001b[39m\u001b[32m433\u001b[39m output = \u001b[43mcall\u001b[49m\u001b[43m.\u001b[49m\u001b[43m_call_strategy_hook\u001b[49m\u001b[43m(\u001b[49m\u001b[43mtrainer\u001b[49m\u001b[43m,\u001b[49m\u001b[43m \u001b[49m\u001b[43mhook_name\u001b[49m\u001b[43m,\u001b[49m\u001b[43m \u001b[49m\u001b[43m*\u001b[49m\u001b[43mstep_args\u001b[49m\u001b[43m)\u001b[49m\n\u001b[32m    435\u001b[39m \u001b[38;5;28mself\u001b[39m.batch_progress.increment_processed()\n\u001b[32m    437\u001b[39m \u001b[38;5;28;01mif\u001b[39;00m using_dataloader_iter:\n\u001b[32m    438\u001b[39m     \u001b[38;5;66;03m# update the hook kwargs now that the step method might have consumed the iterator\u001b[39;00m\n",
      "\u001b[36mFile \u001b[39m\u001b[32m~/Documents/AI4Fintech/FinTorch/.venv/lib/python3.11/site-packages/lightning/pytorch/trainer/call.py:323\u001b[39m, in \u001b[36m_call_strategy_hook\u001b[39m\u001b[34m(trainer, hook_name, *args, **kwargs)\u001b[39m\n\u001b[32m    320\u001b[39m     \u001b[38;5;28;01mreturn\u001b[39;00m \u001b[38;5;28;01mNone\u001b[39;00m\n\u001b[32m    322\u001b[39m \u001b[38;5;28;01mwith\u001b[39;00m trainer.profiler.profile(\u001b[33mf\u001b[39m\u001b[33m\"\u001b[39m\u001b[33m[Strategy]\u001b[39m\u001b[38;5;132;01m{\u001b[39;00mtrainer.strategy.\u001b[34m__class__\u001b[39m.\u001b[34m__name__\u001b[39m\u001b[38;5;132;01m}\u001b[39;00m\u001b[33m.\u001b[39m\u001b[38;5;132;01m{\u001b[39;00mhook_name\u001b[38;5;132;01m}\u001b[39;00m\u001b[33m\"\u001b[39m):\n\u001b[32m--> \u001b[39m\u001b[32m323\u001b[39m     output = \u001b[43mfn\u001b[49m\u001b[43m(\u001b[49m\u001b[43m*\u001b[49m\u001b[43margs\u001b[49m\u001b[43m,\u001b[49m\u001b[43m \u001b[49m\u001b[43m*\u001b[49m\u001b[43m*\u001b[49m\u001b[43mkwargs\u001b[49m\u001b[43m)\u001b[49m\n\u001b[32m    325\u001b[39m \u001b[38;5;66;03m# restore current_fx when nested context\u001b[39;00m\n\u001b[32m    326\u001b[39m pl_module._current_fx_name = prev_fx_name\n",
      "\u001b[36mFile \u001b[39m\u001b[32m~/Documents/AI4Fintech/FinTorch/.venv/lib/python3.11/site-packages/lightning/pytorch/strategies/strategy.py:412\u001b[39m, in \u001b[36mStrategy.validation_step\u001b[39m\u001b[34m(self, *args, **kwargs)\u001b[39m\n\u001b[32m    410\u001b[39m \u001b[38;5;28;01mif\u001b[39;00m \u001b[38;5;28mself\u001b[39m.model != \u001b[38;5;28mself\u001b[39m.lightning_module:\n\u001b[32m    411\u001b[39m     \u001b[38;5;28;01mreturn\u001b[39;00m \u001b[38;5;28mself\u001b[39m._forward_redirection(\u001b[38;5;28mself\u001b[39m.model, \u001b[38;5;28mself\u001b[39m.lightning_module, \u001b[33m\"\u001b[39m\u001b[33mvalidation_step\u001b[39m\u001b[33m\"\u001b[39m, *args, **kwargs)\n\u001b[32m--> \u001b[39m\u001b[32m412\u001b[39m \u001b[38;5;28;01mreturn\u001b[39;00m \u001b[38;5;28;43mself\u001b[39;49m\u001b[43m.\u001b[49m\u001b[43mlightning_module\u001b[49m\u001b[43m.\u001b[49m\u001b[43mvalidation_step\u001b[49m\u001b[43m(\u001b[49m\u001b[43m*\u001b[49m\u001b[43margs\u001b[49m\u001b[43m,\u001b[49m\u001b[43m \u001b[49m\u001b[43m*\u001b[49m\u001b[43m*\u001b[49m\u001b[43mkwargs\u001b[49m\u001b[43m)\u001b[49m\n",
      "\u001b[36mFile \u001b[39m\u001b[32m~/Documents/AI4Fintech/FinTorch/fintorch/models/timeseries/tft/tft_module.py:212\u001b[39m, in \u001b[36mTemporalFusionTransformerModule.validation_step\u001b[39m\u001b[34m(self, batch, batch_idx)\u001b[39m\n\u001b[32m    197\u001b[39m \u001b[38;5;28;01mdef\u001b[39;00m \u001b[34mvalidation_step\u001b[39m(\n\u001b[32m    198\u001b[39m     \u001b[38;5;28mself\u001b[39m,\n\u001b[32m    199\u001b[39m     batch: Union[\n\u001b[32m   (...)\u001b[39m\u001b[32m    208\u001b[39m     batch_idx: \u001b[38;5;28mint\u001b[39m,\n\u001b[32m    209\u001b[39m ) -> torch.Tensor:\n\u001b[32m    210\u001b[39m     past_inputs, future_inputs, static_inputs, target = \u001b[38;5;28mself\u001b[39m._unpack_batch(batch)  \u001b[38;5;66;03m# type: ignore\u001b[39;00m\n\u001b[32m--> \u001b[39m\u001b[32m212\u001b[39m     output, _ = \u001b[38;5;28;43mself\u001b[39;49m\u001b[43m.\u001b[49m\u001b[43mforward\u001b[49m\u001b[43m(\u001b[49m\u001b[43mpast_inputs\u001b[49m\u001b[43m,\u001b[49m\u001b[43m \u001b[49m\u001b[43mfuture_inputs\u001b[49m\u001b[43m,\u001b[49m\u001b[43m \u001b[49m\u001b[43mstatic_inputs\u001b[49m\u001b[43m)\u001b[49m  \u001b[38;5;66;03m# type: ignore\u001b[39;00m\n\u001b[32m    214\u001b[39m     \u001b[38;5;66;03m# Calculate the loss\u001b[39;00m\n\u001b[32m    215\u001b[39m     loss = \u001b[38;5;28mself\u001b[39m.quantile_loss(output, target)\n",
      "\u001b[36mFile \u001b[39m\u001b[32m~/Documents/AI4Fintech/FinTorch/fintorch/models/timeseries/tft/tft_module.py:100\u001b[39m, in \u001b[36mTemporalFusionTransformerModule.forward\u001b[39m\u001b[34m(self, past_inputs, future_inputs, static_inputs)\u001b[39m\n\u001b[32m     94\u001b[39m \u001b[38;5;28;01mdef\u001b[39;00m \u001b[34mforward\u001b[39m(\n\u001b[32m     95\u001b[39m     \u001b[38;5;28mself\u001b[39m,\n\u001b[32m     96\u001b[39m     past_inputs: Dict[\u001b[38;5;28mstr\u001b[39m, \u001b[38;5;28mint\u001b[39m],\n\u001b[32m     97\u001b[39m     future_inputs: Dict[\u001b[38;5;28mstr\u001b[39m, \u001b[38;5;28mint\u001b[39m],\n\u001b[32m     98\u001b[39m     static_inputs: Dict[\u001b[38;5;28mstr\u001b[39m, \u001b[38;5;28mint\u001b[39m],\n\u001b[32m     99\u001b[39m ) -> Any:\n\u001b[32m--> \u001b[39m\u001b[32m100\u001b[39m     \u001b[38;5;28;01mreturn\u001b[39;00m \u001b[38;5;28;43mself\u001b[39;49m\u001b[43m.\u001b[49m\u001b[43mtft_model\u001b[49m\u001b[43m(\u001b[49m\u001b[43mpast_inputs\u001b[49m\u001b[43m,\u001b[49m\u001b[43m \u001b[49m\u001b[43mfuture_inputs\u001b[49m\u001b[43m,\u001b[49m\u001b[43m \u001b[49m\u001b[43mstatic_inputs\u001b[49m\u001b[43m)\u001b[49m\n",
      "\u001b[36mFile \u001b[39m\u001b[32m~/Documents/AI4Fintech/FinTorch/.venv/lib/python3.11/site-packages/torch/nn/modules/module.py:1739\u001b[39m, in \u001b[36mModule._wrapped_call_impl\u001b[39m\u001b[34m(self, *args, **kwargs)\u001b[39m\n\u001b[32m   1737\u001b[39m     \u001b[38;5;28;01mreturn\u001b[39;00m \u001b[38;5;28mself\u001b[39m._compiled_call_impl(*args, **kwargs)  \u001b[38;5;66;03m# type: ignore[misc]\u001b[39;00m\n\u001b[32m   1738\u001b[39m \u001b[38;5;28;01melse\u001b[39;00m:\n\u001b[32m-> \u001b[39m\u001b[32m1739\u001b[39m     \u001b[38;5;28;01mreturn\u001b[39;00m \u001b[38;5;28;43mself\u001b[39;49m\u001b[43m.\u001b[49m\u001b[43m_call_impl\u001b[49m\u001b[43m(\u001b[49m\u001b[43m*\u001b[49m\u001b[43margs\u001b[49m\u001b[43m,\u001b[49m\u001b[43m \u001b[49m\u001b[43m*\u001b[49m\u001b[43m*\u001b[49m\u001b[43mkwargs\u001b[49m\u001b[43m)\u001b[49m\n",
      "\u001b[36mFile \u001b[39m\u001b[32m~/Documents/AI4Fintech/FinTorch/.venv/lib/python3.11/site-packages/torch/nn/modules/module.py:1750\u001b[39m, in \u001b[36mModule._call_impl\u001b[39m\u001b[34m(self, *args, **kwargs)\u001b[39m\n\u001b[32m   1745\u001b[39m \u001b[38;5;66;03m# If we don't have any hooks, we want to skip the rest of the logic in\u001b[39;00m\n\u001b[32m   1746\u001b[39m \u001b[38;5;66;03m# this function, and just call forward.\u001b[39;00m\n\u001b[32m   1747\u001b[39m \u001b[38;5;28;01mif\u001b[39;00m \u001b[38;5;129;01mnot\u001b[39;00m (\u001b[38;5;28mself\u001b[39m._backward_hooks \u001b[38;5;129;01mor\u001b[39;00m \u001b[38;5;28mself\u001b[39m._backward_pre_hooks \u001b[38;5;129;01mor\u001b[39;00m \u001b[38;5;28mself\u001b[39m._forward_hooks \u001b[38;5;129;01mor\u001b[39;00m \u001b[38;5;28mself\u001b[39m._forward_pre_hooks\n\u001b[32m   1748\u001b[39m         \u001b[38;5;129;01mor\u001b[39;00m _global_backward_pre_hooks \u001b[38;5;129;01mor\u001b[39;00m _global_backward_hooks\n\u001b[32m   1749\u001b[39m         \u001b[38;5;129;01mor\u001b[39;00m _global_forward_hooks \u001b[38;5;129;01mor\u001b[39;00m _global_forward_pre_hooks):\n\u001b[32m-> \u001b[39m\u001b[32m1750\u001b[39m     \u001b[38;5;28;01mreturn\u001b[39;00m \u001b[43mforward_call\u001b[49m\u001b[43m(\u001b[49m\u001b[43m*\u001b[49m\u001b[43margs\u001b[49m\u001b[43m,\u001b[49m\u001b[43m \u001b[49m\u001b[43m*\u001b[49m\u001b[43m*\u001b[49m\u001b[43mkwargs\u001b[49m\u001b[43m)\u001b[49m\n\u001b[32m   1752\u001b[39m result = \u001b[38;5;28;01mNone\u001b[39;00m\n\u001b[32m   1753\u001b[39m called_always_called_hooks = \u001b[38;5;28mset\u001b[39m()\n",
      "\u001b[36mFile \u001b[39m\u001b[32m~/Documents/AI4Fintech/FinTorch/fintorch/models/timeseries/tft/tft.py:263\u001b[39m, in \u001b[36mTemporalFusionTransformer.forward\u001b[39m\u001b[34m(self, past_inputs, future_inputs, static_inputs)\u001b[39m\n\u001b[32m    256\u001b[39m static = (\n\u001b[32m    257\u001b[39m     \u001b[38;5;28mself\u001b[39m.variable_selection_static(static_inputs)\n\u001b[32m    258\u001b[39m     \u001b[38;5;28;01mif\u001b[39;00m static_inputs \u001b[38;5;129;01mis\u001b[39;00m \u001b[38;5;129;01mnot\u001b[39;00m \u001b[38;5;28;01mNone\u001b[39;00m\n\u001b[32m    259\u001b[39m     \u001b[38;5;28;01melse\u001b[39;00m \u001b[38;5;28;01mNone\u001b[39;00m\n\u001b[32m    260\u001b[39m )\n\u001b[32m    262\u001b[39m h0, c0 = \u001b[38;5;28mself\u001b[39m._init_lstm_states(static, \u001b[38;5;28mself\u001b[39m.device, batch_size)\n\u001b[32m--> \u001b[39m\u001b[32m263\u001b[39m encoder_output, (hidden, cell) = \u001b[38;5;28;43mself\u001b[39;49m\u001b[43m.\u001b[49m\u001b[43mlstm_encoder\u001b[49m\u001b[43m(\u001b[49m\u001b[43mpast\u001b[49m\u001b[43m,\u001b[49m\u001b[43m \u001b[49m\u001b[43mhx\u001b[49m\u001b[43m=\u001b[49m\u001b[43m(\u001b[49m\u001b[43mh0\u001b[49m\u001b[43m,\u001b[49m\u001b[43m \u001b[49m\u001b[43mc0\u001b[49m\u001b[43m)\u001b[49m\u001b[43m)\u001b[49m\n\u001b[32m    264\u001b[39m encoder_output = \u001b[38;5;28mself\u001b[39m.gated_add_norm(encoder_output, past)\n\u001b[32m    266\u001b[39m \u001b[38;5;28;01mif\u001b[39;00m future \u001b[38;5;129;01mis\u001b[39;00m \u001b[38;5;129;01mnot\u001b[39;00m \u001b[38;5;28;01mNone\u001b[39;00m:\n",
      "\u001b[36mFile \u001b[39m\u001b[32m~/Documents/AI4Fintech/FinTorch/.venv/lib/python3.11/site-packages/torch/nn/modules/module.py:1739\u001b[39m, in \u001b[36mModule._wrapped_call_impl\u001b[39m\u001b[34m(self, *args, **kwargs)\u001b[39m\n\u001b[32m   1737\u001b[39m     \u001b[38;5;28;01mreturn\u001b[39;00m \u001b[38;5;28mself\u001b[39m._compiled_call_impl(*args, **kwargs)  \u001b[38;5;66;03m# type: ignore[misc]\u001b[39;00m\n\u001b[32m   1738\u001b[39m \u001b[38;5;28;01melse\u001b[39;00m:\n\u001b[32m-> \u001b[39m\u001b[32m1739\u001b[39m     \u001b[38;5;28;01mreturn\u001b[39;00m \u001b[38;5;28;43mself\u001b[39;49m\u001b[43m.\u001b[49m\u001b[43m_call_impl\u001b[49m\u001b[43m(\u001b[49m\u001b[43m*\u001b[49m\u001b[43margs\u001b[49m\u001b[43m,\u001b[49m\u001b[43m \u001b[49m\u001b[43m*\u001b[49m\u001b[43m*\u001b[49m\u001b[43mkwargs\u001b[49m\u001b[43m)\u001b[49m\n",
      "\u001b[36mFile \u001b[39m\u001b[32m~/Documents/AI4Fintech/FinTorch/.venv/lib/python3.11/site-packages/torch/nn/modules/module.py:1750\u001b[39m, in \u001b[36mModule._call_impl\u001b[39m\u001b[34m(self, *args, **kwargs)\u001b[39m\n\u001b[32m   1745\u001b[39m \u001b[38;5;66;03m# If we don't have any hooks, we want to skip the rest of the logic in\u001b[39;00m\n\u001b[32m   1746\u001b[39m \u001b[38;5;66;03m# this function, and just call forward.\u001b[39;00m\n\u001b[32m   1747\u001b[39m \u001b[38;5;28;01mif\u001b[39;00m \u001b[38;5;129;01mnot\u001b[39;00m (\u001b[38;5;28mself\u001b[39m._backward_hooks \u001b[38;5;129;01mor\u001b[39;00m \u001b[38;5;28mself\u001b[39m._backward_pre_hooks \u001b[38;5;129;01mor\u001b[39;00m \u001b[38;5;28mself\u001b[39m._forward_hooks \u001b[38;5;129;01mor\u001b[39;00m \u001b[38;5;28mself\u001b[39m._forward_pre_hooks\n\u001b[32m   1748\u001b[39m         \u001b[38;5;129;01mor\u001b[39;00m _global_backward_pre_hooks \u001b[38;5;129;01mor\u001b[39;00m _global_backward_hooks\n\u001b[32m   1749\u001b[39m         \u001b[38;5;129;01mor\u001b[39;00m _global_forward_hooks \u001b[38;5;129;01mor\u001b[39;00m _global_forward_pre_hooks):\n\u001b[32m-> \u001b[39m\u001b[32m1750\u001b[39m     \u001b[38;5;28;01mreturn\u001b[39;00m \u001b[43mforward_call\u001b[49m\u001b[43m(\u001b[49m\u001b[43m*\u001b[49m\u001b[43margs\u001b[49m\u001b[43m,\u001b[49m\u001b[43m \u001b[49m\u001b[43m*\u001b[49m\u001b[43m*\u001b[49m\u001b[43mkwargs\u001b[49m\u001b[43m)\u001b[49m\n\u001b[32m   1752\u001b[39m result = \u001b[38;5;28;01mNone\u001b[39;00m\n\u001b[32m   1753\u001b[39m called_always_called_hooks = \u001b[38;5;28mset\u001b[39m()\n",
      "\u001b[36mFile \u001b[39m\u001b[32m~/Documents/AI4Fintech/FinTorch/.venv/lib/python3.11/site-packages/torch/nn/modules/rnn.py:1124\u001b[39m, in \u001b[36mLSTM.forward\u001b[39m\u001b[34m(self, input, hx)\u001b[39m\n\u001b[32m   1121\u001b[39m         hx = \u001b[38;5;28mself\u001b[39m.permute_hidden(hx, sorted_indices)\n\u001b[32m   1123\u001b[39m \u001b[38;5;28;01mif\u001b[39;00m batch_sizes \u001b[38;5;129;01mis\u001b[39;00m \u001b[38;5;28;01mNone\u001b[39;00m:\n\u001b[32m-> \u001b[39m\u001b[32m1124\u001b[39m     result = \u001b[43m_VF\u001b[49m\u001b[43m.\u001b[49m\u001b[43mlstm\u001b[49m\u001b[43m(\u001b[49m\n\u001b[32m   1125\u001b[39m \u001b[43m        \u001b[49m\u001b[38;5;28;43minput\u001b[39;49m\u001b[43m,\u001b[49m\n\u001b[32m   1126\u001b[39m \u001b[43m        \u001b[49m\u001b[43mhx\u001b[49m\u001b[43m,\u001b[49m\n\u001b[32m   1127\u001b[39m \u001b[43m        \u001b[49m\u001b[38;5;28;43mself\u001b[39;49m\u001b[43m.\u001b[49m\u001b[43m_flat_weights\u001b[49m\u001b[43m,\u001b[49m\u001b[43m  \u001b[49m\u001b[38;5;66;43;03m# type: ignore[arg-type]\u001b[39;49;00m\n\u001b[32m   1128\u001b[39m \u001b[43m        \u001b[49m\u001b[38;5;28;43mself\u001b[39;49m\u001b[43m.\u001b[49m\u001b[43mbias\u001b[49m\u001b[43m,\u001b[49m\n\u001b[32m   1129\u001b[39m \u001b[43m        \u001b[49m\u001b[38;5;28;43mself\u001b[39;49m\u001b[43m.\u001b[49m\u001b[43mnum_layers\u001b[49m\u001b[43m,\u001b[49m\n\u001b[32m   1130\u001b[39m \u001b[43m        \u001b[49m\u001b[38;5;28;43mself\u001b[39;49m\u001b[43m.\u001b[49m\u001b[43mdropout\u001b[49m\u001b[43m,\u001b[49m\n\u001b[32m   1131\u001b[39m \u001b[43m        \u001b[49m\u001b[38;5;28;43mself\u001b[39;49m\u001b[43m.\u001b[49m\u001b[43mtraining\u001b[49m\u001b[43m,\u001b[49m\n\u001b[32m   1132\u001b[39m \u001b[43m        \u001b[49m\u001b[38;5;28;43mself\u001b[39;49m\u001b[43m.\u001b[49m\u001b[43mbidirectional\u001b[49m\u001b[43m,\u001b[49m\n\u001b[32m   1133\u001b[39m \u001b[43m        \u001b[49m\u001b[38;5;28;43mself\u001b[39;49m\u001b[43m.\u001b[49m\u001b[43mbatch_first\u001b[49m\u001b[43m,\u001b[49m\n\u001b[32m   1134\u001b[39m \u001b[43m    \u001b[49m\u001b[43m)\u001b[49m\n\u001b[32m   1135\u001b[39m \u001b[38;5;28;01melse\u001b[39;00m:\n\u001b[32m   1136\u001b[39m     result = _VF.lstm(\n\u001b[32m   1137\u001b[39m         \u001b[38;5;28minput\u001b[39m,\n\u001b[32m   1138\u001b[39m         batch_sizes,\n\u001b[32m   (...)\u001b[39m\u001b[32m   1145\u001b[39m         \u001b[38;5;28mself\u001b[39m.bidirectional,\n\u001b[32m   1146\u001b[39m     )\n",
      "\u001b[31mRuntimeError\u001b[39m: Placeholder storage has not been allocated on MPS device!"
     ]
    }
   ],
   "source": [
    "import os\n",
    "\n",
    "import lightning as L\n",
    "import matplotlib.pyplot as plt\n",
    "import torch\n",
    "from lightning.pytorch.callbacks import EarlyStopping\n",
    "\n",
    "from fintorch.datasets.electricity_simple import ElectricityDataModule\n",
    "from fintorch.models.timeseries.tft import TemporalFusionTransformerModule\n",
    "\n",
    "# Define hyperparameters\n",
    "number_of_past_inputs = 168\n",
    "number_of_future_inputs = 24\n",
    "embedding_size_inputs = hidden_dimension = 160\n",
    "dropout = 0.1\n",
    "number_of_heads = 4\n",
    "batch_size = 1024\n",
    "\n",
    "\n",
    "past_inputs = {\"past_data\": 1}\n",
    "future_inputs = None\n",
    "static_inputs = None\n",
    "quantiles = [0.05, 0.5, 0.95]\n",
    "\n",
    "\n",
    "# Create an instance of TemporalFusionTransformerModule\n",
    "tft_module = TemporalFusionTransformerModule(\n",
    "    number_of_past_inputs,\n",
    "    number_of_future_inputs,\n",
    "    embedding_size_inputs,\n",
    "    hidden_dimension,\n",
    "    dropout,\n",
    "    number_of_heads,\n",
    "    past_inputs,\n",
    "    future_inputs,\n",
    "    static_inputs,\n",
    "    batch_size=batch_size,\n",
    "    device=torch.device(\"cuda\" if torch.cuda.is_available() else \"cpu\"),\n",
    "    quantiles=quantiles,\n",
    ")\n",
    "\n",
    "data_module = ElectricityDataModule(\n",
    "    batch_size=batch_size,\n",
    "    past_length=number_of_past_inputs,\n",
    "    horizon=number_of_future_inputs,\n",
    "    workers=os.cpu_count(),\n",
    ")\n",
    "\n",
    "# Set the precision\n",
    "torch.set_float32_matmul_precision(\"medium\")\n",
    "\n",
    "# Prepare the data\n",
    "data_module.setup()\n",
    "\n",
    "\n",
    "plot_all_data = data_module.train_dataset.data\n",
    "\n",
    "# Plot all data\n",
    "plt.figure(figsize=(15, 5))\n",
    "plt.plot(plot_all_data, label=\"All Data\")\n",
    "plt.xlabel(\"Time Step\")\n",
    "plt.ylabel(\"Value\")\n",
    "plt.title(\"All Data\")\n",
    "plt.legend()\n",
    "plt.show()\n",
    "\n",
    "# Create a trainer with TensorBoard for better monitoring\n",
    "early_stopping = EarlyStopping(\"val_loss_epoch\", patience=50)\n",
    "trainer = L.Trainer(\n",
    "    max_epochs=1,\n",
    "    callbacks=[early_stopping],\n",
    "    gradient_clip_val=0.01,\n",
    ")\n",
    "\n",
    "# Train the model\n",
    "trainer.fit(tft_module, data_module)\n",
    "\n",
    "trainer.test(tft_module, data_module)\n"
   ]
  },
  {
   "cell_type": "markdown",
   "metadata": {},
   "source": [
    "And we will evaluate the prediction with a plot of some randomly selected batches"
   ]
  },
  {
   "cell_type": "code",
   "execution_count": 18,
   "metadata": {},
   "outputs": [
    {
     "name": "stdout",
     "output_type": "stream",
     "text": [
      "Electricity dataset size: (143206, 2)\n",
      "Electricity dataset size: (143206, 2)\n",
      "Electricity dataset size: (143206, 2)\n",
      "Electricity dataset size: (143206, 2)\n"
     ]
    },
    {
     "name": "stderr",
     "output_type": "stream",
     "text": [
      "/Users/mboersma/Documents/AI4Fintech/FinTorch/.venv/lib/python3.11/site-packages/lightning/pytorch/trainer/connectors/data_connector.py:420: Consider setting `persistent_workers=True` in 'predict_dataloader' to speed up the dataloader worker initialization.\n"
     ]
    },
    {
     "name": "stdout",
     "output_type": "stream",
     "text": [
      "Predicting: |          | 0/? [00:00<?, ?it/s]"
     ]
    },
    {
     "ename": "RuntimeError",
     "evalue": "Placeholder storage has not been allocated on MPS device!",
     "output_type": "error",
     "traceback": [
      "\u001b[31m---------------------------------------------------------------------------\u001b[39m",
      "\u001b[31mRuntimeError\u001b[39m                              Traceback (most recent call last)",
      "\u001b[36mCell\u001b[39m\u001b[36m \u001b[39m\u001b[32mIn[18]\u001b[39m\u001b[32m, line 2\u001b[39m\n\u001b[32m      1\u001b[39m \u001b[38;5;66;03m# Get predictions\u001b[39;00m\n\u001b[32m----> \u001b[39m\u001b[32m2\u001b[39m predictions = \u001b[43mtrainer\u001b[49m\u001b[43m.\u001b[49m\u001b[43mpredict\u001b[49m\u001b[43m(\u001b[49m\u001b[43mtft_module\u001b[49m\u001b[43m,\u001b[49m\u001b[43m \u001b[49m\u001b[43mdatamodule\u001b[49m\u001b[43m=\u001b[49m\u001b[43mdata_module\u001b[49m\u001b[43m)\u001b[49m\n\u001b[32m      4\u001b[39m \u001b[38;5;66;03m# Concatenate predictions\u001b[39;00m\n\u001b[32m      5\u001b[39m all_predictions = torch.cat(predictions, dim=\u001b[32m0\u001b[39m)\n",
      "\u001b[36mFile \u001b[39m\u001b[32m~/Documents/AI4Fintech/FinTorch/.venv/lib/python3.11/site-packages/lightning/pytorch/trainer/trainer.py:859\u001b[39m, in \u001b[36mTrainer.predict\u001b[39m\u001b[34m(self, model, dataloaders, datamodule, return_predictions, ckpt_path)\u001b[39m\n\u001b[32m    857\u001b[39m \u001b[38;5;28mself\u001b[39m.state.status = TrainerStatus.RUNNING\n\u001b[32m    858\u001b[39m \u001b[38;5;28mself\u001b[39m.predicting = \u001b[38;5;28;01mTrue\u001b[39;00m\n\u001b[32m--> \u001b[39m\u001b[32m859\u001b[39m \u001b[38;5;28;01mreturn\u001b[39;00m \u001b[43mcall\u001b[49m\u001b[43m.\u001b[49m\u001b[43m_call_and_handle_interrupt\u001b[49m\u001b[43m(\u001b[49m\n\u001b[32m    860\u001b[39m \u001b[43m    \u001b[49m\u001b[38;5;28;43mself\u001b[39;49m\u001b[43m,\u001b[49m\u001b[43m \u001b[49m\u001b[38;5;28;43mself\u001b[39;49m\u001b[43m.\u001b[49m\u001b[43m_predict_impl\u001b[49m\u001b[43m,\u001b[49m\u001b[43m \u001b[49m\u001b[43mmodel\u001b[49m\u001b[43m,\u001b[49m\u001b[43m \u001b[49m\u001b[43mdataloaders\u001b[49m\u001b[43m,\u001b[49m\u001b[43m \u001b[49m\u001b[43mdatamodule\u001b[49m\u001b[43m,\u001b[49m\u001b[43m \u001b[49m\u001b[43mreturn_predictions\u001b[49m\u001b[43m,\u001b[49m\u001b[43m \u001b[49m\u001b[43mckpt_path\u001b[49m\n\u001b[32m    861\u001b[39m \u001b[43m\u001b[49m\u001b[43m)\u001b[49m\n",
      "\u001b[36mFile \u001b[39m\u001b[32m~/Documents/AI4Fintech/FinTorch/.venv/lib/python3.11/site-packages/lightning/pytorch/trainer/call.py:47\u001b[39m, in \u001b[36m_call_and_handle_interrupt\u001b[39m\u001b[34m(trainer, trainer_fn, *args, **kwargs)\u001b[39m\n\u001b[32m     45\u001b[39m     \u001b[38;5;28;01mif\u001b[39;00m trainer.strategy.launcher \u001b[38;5;129;01mis\u001b[39;00m \u001b[38;5;129;01mnot\u001b[39;00m \u001b[38;5;28;01mNone\u001b[39;00m:\n\u001b[32m     46\u001b[39m         \u001b[38;5;28;01mreturn\u001b[39;00m trainer.strategy.launcher.launch(trainer_fn, *args, trainer=trainer, **kwargs)\n\u001b[32m---> \u001b[39m\u001b[32m47\u001b[39m     \u001b[38;5;28;01mreturn\u001b[39;00m \u001b[43mtrainer_fn\u001b[49m\u001b[43m(\u001b[49m\u001b[43m*\u001b[49m\u001b[43margs\u001b[49m\u001b[43m,\u001b[49m\u001b[43m \u001b[49m\u001b[43m*\u001b[49m\u001b[43m*\u001b[49m\u001b[43mkwargs\u001b[49m\u001b[43m)\u001b[49m\n\u001b[32m     49\u001b[39m \u001b[38;5;28;01mexcept\u001b[39;00m _TunerExitException:\n\u001b[32m     50\u001b[39m     _call_teardown_hook(trainer)\n",
      "\u001b[36mFile \u001b[39m\u001b[32m~/Documents/AI4Fintech/FinTorch/.venv/lib/python3.11/site-packages/lightning/pytorch/trainer/trainer.py:898\u001b[39m, in \u001b[36mTrainer._predict_impl\u001b[39m\u001b[34m(self, model, dataloaders, datamodule, return_predictions, ckpt_path)\u001b[39m\n\u001b[32m    894\u001b[39m \u001b[38;5;28;01massert\u001b[39;00m \u001b[38;5;28mself\u001b[39m.state.fn \u001b[38;5;129;01mis\u001b[39;00m \u001b[38;5;129;01mnot\u001b[39;00m \u001b[38;5;28;01mNone\u001b[39;00m\n\u001b[32m    895\u001b[39m ckpt_path = \u001b[38;5;28mself\u001b[39m._checkpoint_connector._select_ckpt_path(\n\u001b[32m    896\u001b[39m     \u001b[38;5;28mself\u001b[39m.state.fn, ckpt_path, model_provided=model_provided, model_connected=\u001b[38;5;28mself\u001b[39m.lightning_module \u001b[38;5;129;01mis\u001b[39;00m \u001b[38;5;129;01mnot\u001b[39;00m \u001b[38;5;28;01mNone\u001b[39;00m\n\u001b[32m    897\u001b[39m )\n\u001b[32m--> \u001b[39m\u001b[32m898\u001b[39m results = \u001b[38;5;28;43mself\u001b[39;49m\u001b[43m.\u001b[49m\u001b[43m_run\u001b[49m\u001b[43m(\u001b[49m\u001b[43mmodel\u001b[49m\u001b[43m,\u001b[49m\u001b[43m \u001b[49m\u001b[43mckpt_path\u001b[49m\u001b[43m=\u001b[49m\u001b[43mckpt_path\u001b[49m\u001b[43m)\u001b[49m\n\u001b[32m    900\u001b[39m \u001b[38;5;28;01massert\u001b[39;00m \u001b[38;5;28mself\u001b[39m.state.stopped\n\u001b[32m    901\u001b[39m \u001b[38;5;28mself\u001b[39m.predicting = \u001b[38;5;28;01mFalse\u001b[39;00m\n",
      "\u001b[36mFile \u001b[39m\u001b[32m~/Documents/AI4Fintech/FinTorch/.venv/lib/python3.11/site-packages/lightning/pytorch/trainer/trainer.py:982\u001b[39m, in \u001b[36mTrainer._run\u001b[39m\u001b[34m(self, model, ckpt_path)\u001b[39m\n\u001b[32m    977\u001b[39m \u001b[38;5;28mself\u001b[39m._signal_connector.register_signal_handlers()\n\u001b[32m    979\u001b[39m \u001b[38;5;66;03m# ----------------------------\u001b[39;00m\n\u001b[32m    980\u001b[39m \u001b[38;5;66;03m# RUN THE TRAINER\u001b[39;00m\n\u001b[32m    981\u001b[39m \u001b[38;5;66;03m# ----------------------------\u001b[39;00m\n\u001b[32m--> \u001b[39m\u001b[32m982\u001b[39m results = \u001b[38;5;28;43mself\u001b[39;49m\u001b[43m.\u001b[49m\u001b[43m_run_stage\u001b[49m\u001b[43m(\u001b[49m\u001b[43m)\u001b[49m\n\u001b[32m    984\u001b[39m \u001b[38;5;66;03m# ----------------------------\u001b[39;00m\n\u001b[32m    985\u001b[39m \u001b[38;5;66;03m# POST-Training CLEAN UP\u001b[39;00m\n\u001b[32m    986\u001b[39m \u001b[38;5;66;03m# ----------------------------\u001b[39;00m\n\u001b[32m    987\u001b[39m log.debug(\u001b[33mf\u001b[39m\u001b[33m\"\u001b[39m\u001b[38;5;132;01m{\u001b[39;00m\u001b[38;5;28mself\u001b[39m.\u001b[34m__class__\u001b[39m.\u001b[34m__name__\u001b[39m\u001b[38;5;132;01m}\u001b[39;00m\u001b[33m: trainer tearing down\u001b[39m\u001b[33m\"\u001b[39m)\n",
      "\u001b[36mFile \u001b[39m\u001b[32m~/Documents/AI4Fintech/FinTorch/.venv/lib/python3.11/site-packages/lightning/pytorch/trainer/trainer.py:1021\u001b[39m, in \u001b[36mTrainer._run_stage\u001b[39m\u001b[34m(self)\u001b[39m\n\u001b[32m   1019\u001b[39m     \u001b[38;5;28;01mreturn\u001b[39;00m \u001b[38;5;28mself\u001b[39m._evaluation_loop.run()\n\u001b[32m   1020\u001b[39m \u001b[38;5;28;01mif\u001b[39;00m \u001b[38;5;28mself\u001b[39m.predicting:\n\u001b[32m-> \u001b[39m\u001b[32m1021\u001b[39m     \u001b[38;5;28;01mreturn\u001b[39;00m \u001b[38;5;28;43mself\u001b[39;49m\u001b[43m.\u001b[49m\u001b[43mpredict_loop\u001b[49m\u001b[43m.\u001b[49m\u001b[43mrun\u001b[49m\u001b[43m(\u001b[49m\u001b[43m)\u001b[49m\n\u001b[32m   1022\u001b[39m \u001b[38;5;28;01mif\u001b[39;00m \u001b[38;5;28mself\u001b[39m.training:\n\u001b[32m   1023\u001b[39m     \u001b[38;5;28;01mwith\u001b[39;00m isolate_rng():\n",
      "\u001b[36mFile \u001b[39m\u001b[32m~/Documents/AI4Fintech/FinTorch/.venv/lib/python3.11/site-packages/lightning/pytorch/loops/utilities.py:179\u001b[39m, in \u001b[36m_no_grad_context.<locals>._decorator\u001b[39m\u001b[34m(self, *args, **kwargs)\u001b[39m\n\u001b[32m    177\u001b[39m     context_manager = torch.no_grad\n\u001b[32m    178\u001b[39m \u001b[38;5;28;01mwith\u001b[39;00m context_manager():\n\u001b[32m--> \u001b[39m\u001b[32m179\u001b[39m     \u001b[38;5;28;01mreturn\u001b[39;00m \u001b[43mloop_run\u001b[49m\u001b[43m(\u001b[49m\u001b[38;5;28;43mself\u001b[39;49m\u001b[43m,\u001b[49m\u001b[43m \u001b[49m\u001b[43m*\u001b[49m\u001b[43margs\u001b[49m\u001b[43m,\u001b[49m\u001b[43m \u001b[49m\u001b[43m*\u001b[49m\u001b[43m*\u001b[49m\u001b[43mkwargs\u001b[49m\u001b[43m)\u001b[49m\n",
      "\u001b[36mFile \u001b[39m\u001b[32m~/Documents/AI4Fintech/FinTorch/.venv/lib/python3.11/site-packages/lightning/pytorch/loops/prediction_loop.py:125\u001b[39m, in \u001b[36m_PredictionLoop.run\u001b[39m\u001b[34m(self)\u001b[39m\n\u001b[32m    123\u001b[39m     \u001b[38;5;28mself\u001b[39m.batch_progress.is_last_batch = data_fetcher.done\n\u001b[32m    124\u001b[39m     \u001b[38;5;66;03m# run step hooks\u001b[39;00m\n\u001b[32m--> \u001b[39m\u001b[32m125\u001b[39m     \u001b[38;5;28;43mself\u001b[39;49m\u001b[43m.\u001b[49m\u001b[43m_predict_step\u001b[49m\u001b[43m(\u001b[49m\u001b[43mbatch\u001b[49m\u001b[43m,\u001b[49m\u001b[43m \u001b[49m\u001b[43mbatch_idx\u001b[49m\u001b[43m,\u001b[49m\u001b[43m \u001b[49m\u001b[43mdataloader_idx\u001b[49m\u001b[43m,\u001b[49m\u001b[43m \u001b[49m\u001b[43mdataloader_iter\u001b[49m\u001b[43m)\u001b[49m\n\u001b[32m    126\u001b[39m \u001b[38;5;28;01mexcept\u001b[39;00m \u001b[38;5;167;01mStopIteration\u001b[39;00m:\n\u001b[32m    127\u001b[39m     \u001b[38;5;66;03m# this needs to wrap the `*_step` call too (not just `next`) for `dataloader_iter` support\u001b[39;00m\n\u001b[32m    128\u001b[39m     \u001b[38;5;28;01mbreak\u001b[39;00m\n",
      "\u001b[36mFile \u001b[39m\u001b[32m~/Documents/AI4Fintech/FinTorch/.venv/lib/python3.11/site-packages/lightning/pytorch/loops/prediction_loop.py:255\u001b[39m, in \u001b[36m_PredictionLoop._predict_step\u001b[39m\u001b[34m(self, batch, batch_idx, dataloader_idx, dataloader_iter)\u001b[39m\n\u001b[32m    249\u001b[39m \u001b[38;5;66;03m# configure step_kwargs\u001b[39;00m\n\u001b[32m    250\u001b[39m step_args = (\n\u001b[32m    251\u001b[39m     \u001b[38;5;28mself\u001b[39m._build_step_args_from_hook_kwargs(hook_kwargs, \u001b[33m\"\u001b[39m\u001b[33mpredict_step\u001b[39m\u001b[33m\"\u001b[39m)\n\u001b[32m    252\u001b[39m     \u001b[38;5;28;01mif\u001b[39;00m \u001b[38;5;129;01mnot\u001b[39;00m using_dataloader_iter\n\u001b[32m    253\u001b[39m     \u001b[38;5;28;01melse\u001b[39;00m (dataloader_iter,)\n\u001b[32m    254\u001b[39m )\n\u001b[32m--> \u001b[39m\u001b[32m255\u001b[39m predictions = \u001b[43mcall\u001b[49m\u001b[43m.\u001b[49m\u001b[43m_call_strategy_hook\u001b[49m\u001b[43m(\u001b[49m\u001b[43mtrainer\u001b[49m\u001b[43m,\u001b[49m\u001b[43m \u001b[49m\u001b[33;43m\"\u001b[39;49m\u001b[33;43mpredict_step\u001b[39;49m\u001b[33;43m\"\u001b[39;49m\u001b[43m,\u001b[49m\u001b[43m \u001b[49m\u001b[43m*\u001b[49m\u001b[43mstep_args\u001b[49m\u001b[43m)\u001b[49m\n\u001b[32m    256\u001b[39m \u001b[38;5;28;01mif\u001b[39;00m predictions \u001b[38;5;129;01mis\u001b[39;00m \u001b[38;5;28;01mNone\u001b[39;00m:\n\u001b[32m    257\u001b[39m     \u001b[38;5;28mself\u001b[39m._warning_cache.warn(\u001b[33m\"\u001b[39m\u001b[33mpredict returned None if it was on purpose, ignore this warning...\u001b[39m\u001b[33m\"\u001b[39m)\n",
      "\u001b[36mFile \u001b[39m\u001b[32m~/Documents/AI4Fintech/FinTorch/.venv/lib/python3.11/site-packages/lightning/pytorch/trainer/call.py:323\u001b[39m, in \u001b[36m_call_strategy_hook\u001b[39m\u001b[34m(trainer, hook_name, *args, **kwargs)\u001b[39m\n\u001b[32m    320\u001b[39m     \u001b[38;5;28;01mreturn\u001b[39;00m \u001b[38;5;28;01mNone\u001b[39;00m\n\u001b[32m    322\u001b[39m \u001b[38;5;28;01mwith\u001b[39;00m trainer.profiler.profile(\u001b[33mf\u001b[39m\u001b[33m\"\u001b[39m\u001b[33m[Strategy]\u001b[39m\u001b[38;5;132;01m{\u001b[39;00mtrainer.strategy.\u001b[34m__class__\u001b[39m.\u001b[34m__name__\u001b[39m\u001b[38;5;132;01m}\u001b[39;00m\u001b[33m.\u001b[39m\u001b[38;5;132;01m{\u001b[39;00mhook_name\u001b[38;5;132;01m}\u001b[39;00m\u001b[33m\"\u001b[39m):\n\u001b[32m--> \u001b[39m\u001b[32m323\u001b[39m     output = \u001b[43mfn\u001b[49m\u001b[43m(\u001b[49m\u001b[43m*\u001b[49m\u001b[43margs\u001b[49m\u001b[43m,\u001b[49m\u001b[43m \u001b[49m\u001b[43m*\u001b[49m\u001b[43m*\u001b[49m\u001b[43mkwargs\u001b[49m\u001b[43m)\u001b[49m\n\u001b[32m    325\u001b[39m \u001b[38;5;66;03m# restore current_fx when nested context\u001b[39;00m\n\u001b[32m    326\u001b[39m pl_module._current_fx_name = prev_fx_name\n",
      "\u001b[36mFile \u001b[39m\u001b[32m~/Documents/AI4Fintech/FinTorch/.venv/lib/python3.11/site-packages/lightning/pytorch/strategies/strategy.py:438\u001b[39m, in \u001b[36mStrategy.predict_step\u001b[39m\u001b[34m(self, *args, **kwargs)\u001b[39m\n\u001b[32m    436\u001b[39m \u001b[38;5;28;01mif\u001b[39;00m \u001b[38;5;28mself\u001b[39m.model != \u001b[38;5;28mself\u001b[39m.lightning_module:\n\u001b[32m    437\u001b[39m     \u001b[38;5;28;01mreturn\u001b[39;00m \u001b[38;5;28mself\u001b[39m._forward_redirection(\u001b[38;5;28mself\u001b[39m.model, \u001b[38;5;28mself\u001b[39m.lightning_module, \u001b[33m\"\u001b[39m\u001b[33mpredict_step\u001b[39m\u001b[33m\"\u001b[39m, *args, **kwargs)\n\u001b[32m--> \u001b[39m\u001b[32m438\u001b[39m \u001b[38;5;28;01mreturn\u001b[39;00m \u001b[38;5;28;43mself\u001b[39;49m\u001b[43m.\u001b[49m\u001b[43mlightning_module\u001b[49m\u001b[43m.\u001b[49m\u001b[43mpredict_step\u001b[49m\u001b[43m(\u001b[49m\u001b[43m*\u001b[49m\u001b[43margs\u001b[49m\u001b[43m,\u001b[49m\u001b[43m \u001b[49m\u001b[43m*\u001b[49m\u001b[43m*\u001b[49m\u001b[43mkwargs\u001b[49m\u001b[43m)\u001b[49m\n",
      "\u001b[36mFile \u001b[39m\u001b[32m~/Documents/AI4Fintech/FinTorch/fintorch/models/timeseries/tft/tft_module.py:263\u001b[39m, in \u001b[36mTemporalFusionTransformerModule.predict_step\u001b[39m\u001b[34m(self, batch, batch_idx, dataloader_idx)\u001b[39m\n\u001b[32m    248\u001b[39m \u001b[38;5;28;01mdef\u001b[39;00m \u001b[34mpredict_step\u001b[39m(\n\u001b[32m    249\u001b[39m     \u001b[38;5;28mself\u001b[39m,\n\u001b[32m    250\u001b[39m     batch: Union[\n\u001b[32m   (...)\u001b[39m\u001b[32m    260\u001b[39m     dataloader_idx: \u001b[38;5;28mint\u001b[39m = \u001b[32m0\u001b[39m,\n\u001b[32m    261\u001b[39m ) -> Any:\n\u001b[32m    262\u001b[39m     past_inputs, future_inputs, static_inputs, _ = \u001b[38;5;28mself\u001b[39m._unpack_batch(batch)  \u001b[38;5;66;03m# type: ignore\u001b[39;00m\n\u001b[32m--> \u001b[39m\u001b[32m263\u001b[39m     output, _ = \u001b[38;5;28;43mself\u001b[39;49m\u001b[43m.\u001b[49m\u001b[43mforward\u001b[49m\u001b[43m(\u001b[49m\u001b[43mpast_inputs\u001b[49m\u001b[43m,\u001b[49m\u001b[43m \u001b[49m\u001b[43mfuture_inputs\u001b[49m\u001b[43m,\u001b[49m\u001b[43m \u001b[49m\u001b[43mstatic_inputs\u001b[49m\u001b[43m)\u001b[49m  \u001b[38;5;66;03m# type: ignore\u001b[39;00m\n\u001b[32m    265\u001b[39m     \u001b[38;5;28;01mreturn\u001b[39;00m output\n",
      "\u001b[36mFile \u001b[39m\u001b[32m~/Documents/AI4Fintech/FinTorch/fintorch/models/timeseries/tft/tft_module.py:100\u001b[39m, in \u001b[36mTemporalFusionTransformerModule.forward\u001b[39m\u001b[34m(self, past_inputs, future_inputs, static_inputs)\u001b[39m\n\u001b[32m     94\u001b[39m \u001b[38;5;28;01mdef\u001b[39;00m \u001b[34mforward\u001b[39m(\n\u001b[32m     95\u001b[39m     \u001b[38;5;28mself\u001b[39m,\n\u001b[32m     96\u001b[39m     past_inputs: Dict[\u001b[38;5;28mstr\u001b[39m, \u001b[38;5;28mint\u001b[39m],\n\u001b[32m     97\u001b[39m     future_inputs: Dict[\u001b[38;5;28mstr\u001b[39m, \u001b[38;5;28mint\u001b[39m],\n\u001b[32m     98\u001b[39m     static_inputs: Dict[\u001b[38;5;28mstr\u001b[39m, \u001b[38;5;28mint\u001b[39m],\n\u001b[32m     99\u001b[39m ) -> Any:\n\u001b[32m--> \u001b[39m\u001b[32m100\u001b[39m     \u001b[38;5;28;01mreturn\u001b[39;00m \u001b[38;5;28;43mself\u001b[39;49m\u001b[43m.\u001b[49m\u001b[43mtft_model\u001b[49m\u001b[43m(\u001b[49m\u001b[43mpast_inputs\u001b[49m\u001b[43m,\u001b[49m\u001b[43m \u001b[49m\u001b[43mfuture_inputs\u001b[49m\u001b[43m,\u001b[49m\u001b[43m \u001b[49m\u001b[43mstatic_inputs\u001b[49m\u001b[43m)\u001b[49m\n",
      "\u001b[36mFile \u001b[39m\u001b[32m~/Documents/AI4Fintech/FinTorch/.venv/lib/python3.11/site-packages/torch/nn/modules/module.py:1739\u001b[39m, in \u001b[36mModule._wrapped_call_impl\u001b[39m\u001b[34m(self, *args, **kwargs)\u001b[39m\n\u001b[32m   1737\u001b[39m     \u001b[38;5;28;01mreturn\u001b[39;00m \u001b[38;5;28mself\u001b[39m._compiled_call_impl(*args, **kwargs)  \u001b[38;5;66;03m# type: ignore[misc]\u001b[39;00m\n\u001b[32m   1738\u001b[39m \u001b[38;5;28;01melse\u001b[39;00m:\n\u001b[32m-> \u001b[39m\u001b[32m1739\u001b[39m     \u001b[38;5;28;01mreturn\u001b[39;00m \u001b[38;5;28;43mself\u001b[39;49m\u001b[43m.\u001b[49m\u001b[43m_call_impl\u001b[49m\u001b[43m(\u001b[49m\u001b[43m*\u001b[49m\u001b[43margs\u001b[49m\u001b[43m,\u001b[49m\u001b[43m \u001b[49m\u001b[43m*\u001b[49m\u001b[43m*\u001b[49m\u001b[43mkwargs\u001b[49m\u001b[43m)\u001b[49m\n",
      "\u001b[36mFile \u001b[39m\u001b[32m~/Documents/AI4Fintech/FinTorch/.venv/lib/python3.11/site-packages/torch/nn/modules/module.py:1750\u001b[39m, in \u001b[36mModule._call_impl\u001b[39m\u001b[34m(self, *args, **kwargs)\u001b[39m\n\u001b[32m   1745\u001b[39m \u001b[38;5;66;03m# If we don't have any hooks, we want to skip the rest of the logic in\u001b[39;00m\n\u001b[32m   1746\u001b[39m \u001b[38;5;66;03m# this function, and just call forward.\u001b[39;00m\n\u001b[32m   1747\u001b[39m \u001b[38;5;28;01mif\u001b[39;00m \u001b[38;5;129;01mnot\u001b[39;00m (\u001b[38;5;28mself\u001b[39m._backward_hooks \u001b[38;5;129;01mor\u001b[39;00m \u001b[38;5;28mself\u001b[39m._backward_pre_hooks \u001b[38;5;129;01mor\u001b[39;00m \u001b[38;5;28mself\u001b[39m._forward_hooks \u001b[38;5;129;01mor\u001b[39;00m \u001b[38;5;28mself\u001b[39m._forward_pre_hooks\n\u001b[32m   1748\u001b[39m         \u001b[38;5;129;01mor\u001b[39;00m _global_backward_pre_hooks \u001b[38;5;129;01mor\u001b[39;00m _global_backward_hooks\n\u001b[32m   1749\u001b[39m         \u001b[38;5;129;01mor\u001b[39;00m _global_forward_hooks \u001b[38;5;129;01mor\u001b[39;00m _global_forward_pre_hooks):\n\u001b[32m-> \u001b[39m\u001b[32m1750\u001b[39m     \u001b[38;5;28;01mreturn\u001b[39;00m \u001b[43mforward_call\u001b[49m\u001b[43m(\u001b[49m\u001b[43m*\u001b[49m\u001b[43margs\u001b[49m\u001b[43m,\u001b[49m\u001b[43m \u001b[49m\u001b[43m*\u001b[49m\u001b[43m*\u001b[49m\u001b[43mkwargs\u001b[49m\u001b[43m)\u001b[49m\n\u001b[32m   1752\u001b[39m result = \u001b[38;5;28;01mNone\u001b[39;00m\n\u001b[32m   1753\u001b[39m called_always_called_hooks = \u001b[38;5;28mset\u001b[39m()\n",
      "\u001b[36mFile \u001b[39m\u001b[32m~/Documents/AI4Fintech/FinTorch/fintorch/models/timeseries/tft/tft.py:263\u001b[39m, in \u001b[36mTemporalFusionTransformer.forward\u001b[39m\u001b[34m(self, past_inputs, future_inputs, static_inputs)\u001b[39m\n\u001b[32m    256\u001b[39m static = (\n\u001b[32m    257\u001b[39m     \u001b[38;5;28mself\u001b[39m.variable_selection_static(static_inputs)\n\u001b[32m    258\u001b[39m     \u001b[38;5;28;01mif\u001b[39;00m static_inputs \u001b[38;5;129;01mis\u001b[39;00m \u001b[38;5;129;01mnot\u001b[39;00m \u001b[38;5;28;01mNone\u001b[39;00m\n\u001b[32m    259\u001b[39m     \u001b[38;5;28;01melse\u001b[39;00m \u001b[38;5;28;01mNone\u001b[39;00m\n\u001b[32m    260\u001b[39m )\n\u001b[32m    262\u001b[39m h0, c0 = \u001b[38;5;28mself\u001b[39m._init_lstm_states(static, \u001b[38;5;28mself\u001b[39m.device, batch_size)\n\u001b[32m--> \u001b[39m\u001b[32m263\u001b[39m encoder_output, (hidden, cell) = \u001b[38;5;28;43mself\u001b[39;49m\u001b[43m.\u001b[49m\u001b[43mlstm_encoder\u001b[49m\u001b[43m(\u001b[49m\u001b[43mpast\u001b[49m\u001b[43m,\u001b[49m\u001b[43m \u001b[49m\u001b[43mhx\u001b[49m\u001b[43m=\u001b[49m\u001b[43m(\u001b[49m\u001b[43mh0\u001b[49m\u001b[43m,\u001b[49m\u001b[43m \u001b[49m\u001b[43mc0\u001b[49m\u001b[43m)\u001b[49m\u001b[43m)\u001b[49m\n\u001b[32m    264\u001b[39m encoder_output = \u001b[38;5;28mself\u001b[39m.gated_add_norm(encoder_output, past)\n\u001b[32m    266\u001b[39m \u001b[38;5;28;01mif\u001b[39;00m future \u001b[38;5;129;01mis\u001b[39;00m \u001b[38;5;129;01mnot\u001b[39;00m \u001b[38;5;28;01mNone\u001b[39;00m:\n",
      "\u001b[36mFile \u001b[39m\u001b[32m~/Documents/AI4Fintech/FinTorch/.venv/lib/python3.11/site-packages/torch/nn/modules/module.py:1739\u001b[39m, in \u001b[36mModule._wrapped_call_impl\u001b[39m\u001b[34m(self, *args, **kwargs)\u001b[39m\n\u001b[32m   1737\u001b[39m     \u001b[38;5;28;01mreturn\u001b[39;00m \u001b[38;5;28mself\u001b[39m._compiled_call_impl(*args, **kwargs)  \u001b[38;5;66;03m# type: ignore[misc]\u001b[39;00m\n\u001b[32m   1738\u001b[39m \u001b[38;5;28;01melse\u001b[39;00m:\n\u001b[32m-> \u001b[39m\u001b[32m1739\u001b[39m     \u001b[38;5;28;01mreturn\u001b[39;00m \u001b[38;5;28;43mself\u001b[39;49m\u001b[43m.\u001b[49m\u001b[43m_call_impl\u001b[49m\u001b[43m(\u001b[49m\u001b[43m*\u001b[49m\u001b[43margs\u001b[49m\u001b[43m,\u001b[49m\u001b[43m \u001b[49m\u001b[43m*\u001b[49m\u001b[43m*\u001b[49m\u001b[43mkwargs\u001b[49m\u001b[43m)\u001b[49m\n",
      "\u001b[36mFile \u001b[39m\u001b[32m~/Documents/AI4Fintech/FinTorch/.venv/lib/python3.11/site-packages/torch/nn/modules/module.py:1750\u001b[39m, in \u001b[36mModule._call_impl\u001b[39m\u001b[34m(self, *args, **kwargs)\u001b[39m\n\u001b[32m   1745\u001b[39m \u001b[38;5;66;03m# If we don't have any hooks, we want to skip the rest of the logic in\u001b[39;00m\n\u001b[32m   1746\u001b[39m \u001b[38;5;66;03m# this function, and just call forward.\u001b[39;00m\n\u001b[32m   1747\u001b[39m \u001b[38;5;28;01mif\u001b[39;00m \u001b[38;5;129;01mnot\u001b[39;00m (\u001b[38;5;28mself\u001b[39m._backward_hooks \u001b[38;5;129;01mor\u001b[39;00m \u001b[38;5;28mself\u001b[39m._backward_pre_hooks \u001b[38;5;129;01mor\u001b[39;00m \u001b[38;5;28mself\u001b[39m._forward_hooks \u001b[38;5;129;01mor\u001b[39;00m \u001b[38;5;28mself\u001b[39m._forward_pre_hooks\n\u001b[32m   1748\u001b[39m         \u001b[38;5;129;01mor\u001b[39;00m _global_backward_pre_hooks \u001b[38;5;129;01mor\u001b[39;00m _global_backward_hooks\n\u001b[32m   1749\u001b[39m         \u001b[38;5;129;01mor\u001b[39;00m _global_forward_hooks \u001b[38;5;129;01mor\u001b[39;00m _global_forward_pre_hooks):\n\u001b[32m-> \u001b[39m\u001b[32m1750\u001b[39m     \u001b[38;5;28;01mreturn\u001b[39;00m \u001b[43mforward_call\u001b[49m\u001b[43m(\u001b[49m\u001b[43m*\u001b[49m\u001b[43margs\u001b[49m\u001b[43m,\u001b[49m\u001b[43m \u001b[49m\u001b[43m*\u001b[49m\u001b[43m*\u001b[49m\u001b[43mkwargs\u001b[49m\u001b[43m)\u001b[49m\n\u001b[32m   1752\u001b[39m result = \u001b[38;5;28;01mNone\u001b[39;00m\n\u001b[32m   1753\u001b[39m called_always_called_hooks = \u001b[38;5;28mset\u001b[39m()\n",
      "\u001b[36mFile \u001b[39m\u001b[32m~/Documents/AI4Fintech/FinTorch/.venv/lib/python3.11/site-packages/torch/nn/modules/rnn.py:1124\u001b[39m, in \u001b[36mLSTM.forward\u001b[39m\u001b[34m(self, input, hx)\u001b[39m\n\u001b[32m   1121\u001b[39m         hx = \u001b[38;5;28mself\u001b[39m.permute_hidden(hx, sorted_indices)\n\u001b[32m   1123\u001b[39m \u001b[38;5;28;01mif\u001b[39;00m batch_sizes \u001b[38;5;129;01mis\u001b[39;00m \u001b[38;5;28;01mNone\u001b[39;00m:\n\u001b[32m-> \u001b[39m\u001b[32m1124\u001b[39m     result = \u001b[43m_VF\u001b[49m\u001b[43m.\u001b[49m\u001b[43mlstm\u001b[49m\u001b[43m(\u001b[49m\n\u001b[32m   1125\u001b[39m \u001b[43m        \u001b[49m\u001b[38;5;28;43minput\u001b[39;49m\u001b[43m,\u001b[49m\n\u001b[32m   1126\u001b[39m \u001b[43m        \u001b[49m\u001b[43mhx\u001b[49m\u001b[43m,\u001b[49m\n\u001b[32m   1127\u001b[39m \u001b[43m        \u001b[49m\u001b[38;5;28;43mself\u001b[39;49m\u001b[43m.\u001b[49m\u001b[43m_flat_weights\u001b[49m\u001b[43m,\u001b[49m\u001b[43m  \u001b[49m\u001b[38;5;66;43;03m# type: ignore[arg-type]\u001b[39;49;00m\n\u001b[32m   1128\u001b[39m \u001b[43m        \u001b[49m\u001b[38;5;28;43mself\u001b[39;49m\u001b[43m.\u001b[49m\u001b[43mbias\u001b[49m\u001b[43m,\u001b[49m\n\u001b[32m   1129\u001b[39m \u001b[43m        \u001b[49m\u001b[38;5;28;43mself\u001b[39;49m\u001b[43m.\u001b[49m\u001b[43mnum_layers\u001b[49m\u001b[43m,\u001b[49m\n\u001b[32m   1130\u001b[39m \u001b[43m        \u001b[49m\u001b[38;5;28;43mself\u001b[39;49m\u001b[43m.\u001b[49m\u001b[43mdropout\u001b[49m\u001b[43m,\u001b[49m\n\u001b[32m   1131\u001b[39m \u001b[43m        \u001b[49m\u001b[38;5;28;43mself\u001b[39;49m\u001b[43m.\u001b[49m\u001b[43mtraining\u001b[49m\u001b[43m,\u001b[49m\n\u001b[32m   1132\u001b[39m \u001b[43m        \u001b[49m\u001b[38;5;28;43mself\u001b[39;49m\u001b[43m.\u001b[49m\u001b[43mbidirectional\u001b[49m\u001b[43m,\u001b[49m\n\u001b[32m   1133\u001b[39m \u001b[43m        \u001b[49m\u001b[38;5;28;43mself\u001b[39;49m\u001b[43m.\u001b[49m\u001b[43mbatch_first\u001b[49m\u001b[43m,\u001b[49m\n\u001b[32m   1134\u001b[39m \u001b[43m    \u001b[49m\u001b[43m)\u001b[49m\n\u001b[32m   1135\u001b[39m \u001b[38;5;28;01melse\u001b[39;00m:\n\u001b[32m   1136\u001b[39m     result = _VF.lstm(\n\u001b[32m   1137\u001b[39m         \u001b[38;5;28minput\u001b[39m,\n\u001b[32m   1138\u001b[39m         batch_sizes,\n\u001b[32m   (...)\u001b[39m\u001b[32m   1145\u001b[39m         \u001b[38;5;28mself\u001b[39m.bidirectional,\n\u001b[32m   1146\u001b[39m     )\n",
      "\u001b[31mRuntimeError\u001b[39m: Placeholder storage has not been allocated on MPS device!"
     ]
    }
   ],
   "source": [
    "# Get predictions\n",
    "predictions = trainer.predict(tft_module, datamodule=data_module)\n",
    "\n",
    "# Concatenate predictions\n",
    "all_predictions = torch.cat(predictions, dim=0)\n",
    "\n",
    "# Number of batches to plot\n",
    "num_batches_to_plot = 5\n",
    "\n",
    "# Plotting\n",
    "plt.figure(figsize=(15, 5 * num_batches_to_plot))  # Adjust figure size\n",
    "\n",
    "for idx in range(0, num_batches_to_plot):\n",
    "    batch_idx = randint(0, len(all_predictions) - 1)\n",
    "\n",
    "    selected_batch_predictions = all_predictions[batch_idx]\n",
    "    _, selected_batch_target = data_module.test_dataset[batch_idx]\n",
    "\n",
    "    selected_batch_predictions_inverse_scaled = (\n",
    "        data_module.dataset.scaler.inverse_transform(\n",
    "            selected_batch_predictions.reshape(-1, selected_batch_predictions.shape[-1])\n",
    "        ).reshape(selected_batch_predictions.shape)\n",
    "    )\n",
    "\n",
    "    selected_batch_target_inverse_scaled = data_module.dataset.scaler.inverse_transform(\n",
    "        selected_batch_target.reshape(-1, 1)\n",
    "    ).reshape(selected_batch_target.shape)\n",
    "\n",
    "    plt.subplot(\n",
    "        num_batches_to_plot,\n",
    "        1,\n",
    "        idx + 1,\n",
    "    )  # Create subplots\n",
    "\n",
    "    plt.plot(\n",
    "        selected_batch_target_inverse_scaled, label=\"Target\", marker=\"o\", linestyle=\"-\"\n",
    "    )\n",
    "\n",
    "    for i, quantile in enumerate(quantiles):\n",
    "        plt.plot(\n",
    "            selected_batch_predictions_inverse_scaled[:, 0, i],\n",
    "            label=f\"Predicted Quantile {quantile}\",\n",
    "            marker=\"x\",\n",
    "            linestyle=\"--\",\n",
    "        )\n",
    "\n",
    "    plt.xlabel(\"Time Step\")\n",
    "    plt.ylabel(\"Value\")\n",
    "    plt.title(f\"Target vs Predicted Quantiles for Batch {batch_idx + 1}\")\n",
    "    plt.legend()\n",
    "\n",
    "plt.tight_layout()  # Adjust subplot parameters for a tight layout\n",
    "plt.show()\n"
   ]
  },
  {
   "cell_type": "code",
   "execution_count": null,
   "metadata": {
    "vscode": {
     "languageId": "markdown"
    }
   },
   "outputs": [],
   "source": [
    "### Fitting the Temporal Fusion Transformer (TFT) Model on the StockTick Dataset\n",
    "\n",
    "The stock market is a highly dynamic and complex system, making accurate forecasting a challenging task. The StockTick dataset provides historical stock price data, which can be leveraged to predict future trends and movements. In this section, we will utilize the Temporal Fusion Transformer (TFT) model, a state-of-the-art deep learning architecture designed for interpretable, multi-horizon time series forecasting. The TFT model's ability to handle complex temporal relationships, select relevant features, and provide interpretable insights makes it an excellent choice for stock price forecasting.\n",
    "\n",
    "We will preprocess the StockTick dataset, define the necessary hyperparameters, and train the TFT model to predict future stock prices. By the end of this section, we will evaluate the model's performance and visualize its predictions, gaining valuable insights into the temporal dynamics of stock price movements."
   ]
  },
  {
   "cell_type": "code",
   "execution_count": null,
   "metadata": {},
   "outputs": [],
   "source": [
    "import logging\n",
    "from datetime import date\n",
    "from pathlib import Path\n",
    "from random import randint\n",
    "\n",
    "import lightning as L\n",
    "import matplotlib.pyplot as plt\n",
    "import torch\n",
    "from lightning.pytorch.callbacks import EarlyStopping\n",
    "\n",
    "from fintorch.datasets import stockticker\n",
    "from fintorch.datasets.stockticker import StockTickerDataModule\n",
    "from fintorch.models.timeseries.tft import TemporalFusionTransformerModule\n",
    "\n",
    "# Set logging level to INFO\n",
    "logging.basicConfig(level=logging.INFO)"
   ]
  },
  {
   "cell_type": "markdown",
   "metadata": {},
   "source": [
    "We will define the parameters for loading the stock ticker data and setting up the TFT model."
   ]
  },
  {
   "cell_type": "code",
   "execution_count": null,
   "metadata": {},
   "outputs": [],
   "source": [
    "# Parameters\n",
    "tickers = [\"AAPL\"]\n",
    "data_path = Path(\"~/.fintorch_data/stocktickers/\").expanduser()\n",
    "start_date = date(2015, 1, 1)\n",
    "end_date = date(2024, 6, 30)\n",
    "\n",
    "# Create a dictionary mapping from tickers to index\n",
    "ticker_index = {ticker: index for index, ticker in enumerate(tickers)}"
   ]
  },
  {
   "cell_type": "markdown",
   "metadata": {},
   "source": [
    "Next, we will load the stock dataset using the StockTicker class."
   ]
  },
  {
   "cell_type": "code",
   "execution_count": null,
   "metadata": {},
   "outputs": [],
   "source": [
    "# Load the stock dataset\n",
    "stockdata = stockticker.StockTicker(\n",
    "    data_path,\n",
    "    tickers=tickers,\n",
    "    start_date=start_date,\n",
    "    end_date=end_date,\n",
    "    mapping=ticker_index,\n",
    "    force_reload=False,\n",
    ")\n",
    "\n",
    "print(stockdata.df_timeseries_dataset.to_pandas().describe())"
   ]
  },
  {
   "cell_type": "markdown",
   "metadata": {},
   "source": [
    "We will define the hyperparameters for the TFT model and create a data module for handling the stock ticker data."
   ]
  },
  {
   "cell_type": "code",
   "execution_count": null,
   "metadata": {},
   "outputs": [],
   "source": [
    "number_of_past_inputs = 168\n",
    "number_of_future_inputs = 24\n",
    "embedding_size_inputs = hidden_dimension = 80\n",
    "dropout = 0.1\n",
    "number_of_heads = 2\n",
    "batch_size = 1024\n",
    "\n",
    "# Create a datamodule\n",
    "datamodule = StockTickerDataModule(\n",
    "    data_path=data_path,\n",
    "    tickers=tickers,\n",
    "    start_date=start_date,\n",
    "    end_date=end_date,\n",
    "    ticker_index=ticker_index,\n",
    "    batch_size=batch_size,\n",
    "    workers=0,\n",
    "    past_length=number_of_past_inputs,\n",
    "    future_length=number_of_future_inputs,\n",
    ")\n",
    "\n",
    "# Setup the datamodule\n",
    "datamodule.setup()"
   ]
  },
  {
   "cell_type": "markdown",
   "metadata": {},
   "source": [
    "We will inspect the first few batches of the training dataset to understand the shape of the input data."
   ]
  },
  {
   "cell_type": "code",
   "execution_count": null,
   "metadata": {},
   "outputs": [],
   "source": [
    "# Iterate over the first 3 batches of the train dataset\n",
    "for batch_idx, (past_inputs, target) in enumerate(datamodule.train_dataloader()):\n",
    "    if batch_idx >= 3:\n",
    "        break\n",
    "    print(f\"Batch {batch_idx + 1}:\")\n",
    "    print(f\"  Past Inputs shape: {past_inputs['past_data'].shape}\")\n",
    "    print(f\"  Target shape: {target.shape}\")"
   ]
  },
  {
   "cell_type": "markdown",
   "metadata": {},
   "source": [
    "We will create an instance of the TemporalFusionTransformerModule and set the precision for matrix multiplication."
   ]
  },
  {
   "cell_type": "code",
   "execution_count": null,
   "metadata": {},
   "outputs": [],
   "source": [
    "past_inputs = {\"past_data\": 1}\n",
    "future_inputs = None\n",
    "static_inputs = None\n",
    "\n",
    "device = torch.device(\"cuda:0\" if torch.cuda.is_available() else \"cpu\")\n",
    "\n",
    "quantiles = [0.05, 0.5, 0.95]\n",
    "\n",
    "# Create an instance of TemporalFusionTransformerModule\n",
    "tft_module = TemporalFusionTransformerModule(\n",
    "    number_of_past_inputs,\n",
    "    number_of_future_inputs,\n",
    "    embedding_size_inputs,\n",
    "    hidden_dimension,\n",
    "    dropout,\n",
    "    number_of_heads,\n",
    "    past_inputs,\n",
    "    future_inputs,\n",
    "    static_inputs,\n",
    "    batch_size=batch_size,\n",
    "    device=device,\n",
    "    quantiles=quantiles,\n",
    ").to(device)\n",
    "\n",
    "# Set the precision\n",
    "torch.set_float32_matmul_precision(\"medium\")"
   ]
  },
  {
   "cell_type": "markdown",
   "metadata": {},
   "source": [
    "We will plot the entire dataset to visualize the stock price trends."
   ]
  },
  {
   "cell_type": "code",
   "execution_count": null,
   "metadata": {},
   "outputs": [],
   "source": [
    "plot_all_data = datamodule.train_dataset.df_timeseries_dataset.select(\"y\")\n",
    "plot_all_data = plot_all_data.to_series().to_list()\n",
    "\n",
    "# Plot all data\n",
    "plt.figure(figsize=(15, 5))\n",
    "plt.plot(plot_all_data, label=\"All Data\")\n",
    "plt.xlabel(\"Time Step\")\n",
    "plt.ylabel(\"Value\")\n",
    "plt.title(\"All Data\")\n",
    "plt.legend()\n",
    "plt.show()"
   ]
  },
  {
   "cell_type": "markdown",
   "metadata": {},
   "source": [
    "We will create a trainer with early stopping and train the TFT model using the stock ticker data.\n",
    "\n"
   ]
  },
  {
   "cell_type": "code",
   "execution_count": null,
   "metadata": {},
   "outputs": [],
   "source": [
    "# Create a trainer with TensorBoard for better monitoring\n",
    "early_stopping = EarlyStopping(\"val_loss_epoch\", patience=100)\n",
    "trainer = L.Trainer(max_epochs=500, callbacks=[early_stopping], log_every_n_steps=4)\n",
    "\n",
    "# Train the model\n",
    "trainer.fit(tft_module, datamodule=datamodule)\n",
    "\n",
    "trainer.test(tft_module, datamodule=datamodule)"
   ]
  },
  {
   "cell_type": "markdown",
   "metadata": {},
   "source": [
    "We will get predictions from the trained model and plot the predicted quantiles against the actual targets.\n",
    "\n"
   ]
  },
  {
   "cell_type": "code",
   "execution_count": null,
   "metadata": {},
   "outputs": [],
   "source": [
    "# Get predictions\n",
    "predictions = trainer.predict(tft_module, datamodule=datamodule)\n",
    "\n",
    "# Concatenate predictions\n",
    "all_predictions = torch.cat(predictions, dim=0)\n",
    "\n",
    "# Number of batches to plot\n",
    "num_batches_to_plot = 5\n",
    "\n",
    "# Plotting\n",
    "plt.figure(figsize=(15, 5 * num_batches_to_plot))  # Adjust figure size\n",
    "\n",
    "for idx in range(0, num_batches_to_plot):\n",
    "    batch_idx = randint(0, len(all_predictions) - 1)\n",
    "\n",
    "    selected_batch_predictions = all_predictions[batch_idx]\n",
    "    _, selected_batch_target = datamodule.test_dataset[batch_idx]\n",
    "\n",
    "    selected_batch_predictions_inverse_scaled = (\n",
    "        datamodule.dataset.scaler.inverse_transform(\n",
    "            selected_batch_predictions.reshape(-1, selected_batch_predictions.shape[-1])\n",
    "        ).reshape(selected_batch_predictions.shape)\n",
    "    )\n",
    "\n",
    "    selected_batch_target_inverse_scaled = datamodule.dataset.scaler.inverse_transform(\n",
    "        selected_batch_target.reshape(-1, 1)\n",
    "    ).reshape(selected_batch_target.shape)\n",
    "\n",
    "    plt.subplot(\n",
    "        num_batches_to_plot,\n",
    "        1,\n",
    "        idx + 1,\n",
    "    )  # Create subplots\n",
    "\n",
    "    plt.plot(\n",
    "        selected_batch_target_inverse_scaled, label=\"Target\", marker=\"o\", linestyle=\"-\"\n",
    "    )\n",
    "\n",
    "    for i, quantile in enumerate(quantiles):\n",
    "        plt.plot(\n",
    "            selected_batch_predictions_inverse_scaled[:, 0, i],\n",
    "            label=f\"Predicted Quantile {quantile}\",\n",
    "            marker=\"x\",\n",
    "            linestyle=\"--\",\n",
    "        )\n",
    "\n",
    "    plt.xlabel(\"Time Step\")\n",
    "    plt.ylabel(\"Value\")\n",
    "    plt.title(f\"Target vs Predicted Quantiles for Batch {batch_idx + 1}\")\n",
    "    plt.legend()\n",
    "\n",
    "plt.tight_layout()  # Adjust subplot parameters for a tight layout\n",
    "plt.show()\n"
   ]
  },
  {
   "cell_type": "markdown",
   "metadata": {},
   "source": [
    "## Conclusion\n",
    "In this tutorial, we explored the Temporal Fusion Transformer (TFT) model, a powerful and interpretable deep learning architecture for multi-horizon time series forecasting. We demonstrated its application on various datasets, including synthetic, electricity consumption, and stock market data. Through the use of key components such as the Gated Residual Network (GRN), Variable Selection Network (VSN), and Interpretable Multi-Head Attention, we showcased how the TFT model effectively handles complex temporal relationships and selects relevant features. Additionally, we visualized attention maps and evaluated the model's predictions, gaining valuable insights into its interpretability and performance. By the end of this tutorial, you should have a solid understanding of how to leverage the TFT model for diverse time series forecasting tasks."
   ]
  },
  {
   "cell_type": "markdown",
   "metadata": {},
   "source": [
    "## References\n",
    "- Lim, Bryan, Sercan O. Arik, Nicolas Loeff, and Tomas Pfister. 2019. “Temporal Fusion Transformers for Interpretable Multi-Horizon Time Series Forecasting.” arXiv [Stat.ML]. arXiv. http://arxiv.org/abs/1912.09363.\n"
   ]
  }
 ],
 "metadata": {
  "kernelspec": {
   "display_name": ".venv",
   "language": "python",
   "name": "python3"
  },
  "language_info": {
   "codemirror_mode": {
    "name": "ipython",
    "version": 3
   },
   "file_extension": ".py",
   "mimetype": "text/x-python",
   "name": "python",
   "nbconvert_exporter": "python",
   "pygments_lexer": "ipython3",
   "version": "3.11.8"
  }
 },
 "nbformat": 4,
 "nbformat_minor": 2
}
