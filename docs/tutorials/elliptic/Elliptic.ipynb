{
 "cells": [
  {
   "cell_type": "markdown",
   "metadata": {},
   "source": [
    "# Elliptic tutorial \n",
    "\n",
    "<a target=\"_blank\" href=\"https://colab.research.google.com/github/AI4FinTech/FinTorch/blob/main/docs/tutorials/elliptic/Elliptic.ipynb\">\n",
    "  <img src=\"https://colab.research.google.com/assets/colab-badge.svg\" alt=\"Open In Colab\"/>\n",
    "</a>\n",
    "\n",
    "In this hands-on Python tutorial, we'll delve into an intriguing dataset that captures the dynamics of transactions within a blockchain network. Our goal will be to prepare this data for training machine learning models using the powerful PyTorch and PyTorch Lightning frameworks. By the end of this tutorial, you'll have a solid foundation for training machine learning models on this dataset. This foundation sets the stage for exciting applications such as: Fraud detection, Transaction pattern analysis, Blockchain network behavior prediction. Let's get started!"
   ]
  },
  {
   "cell_type": "markdown",
   "metadata": {},
   "source": [
    "## Tutorial Outline\n",
    "\n",
    "1. Loading the Data\n",
    "2. Exploratory Data Analysis (EDA)\n",
    "3. Graph Visualization\n",
    "4. Machine Learning Models\n",
    "5. Simple Graph Neural Network (GNN) Model\n",
    "6. GNN for Heterogeneous Graphs (Elliptic++)\n",
    "7. Conclusion and Further Explorations"
   ]
  },
  {
   "cell_type": "markdown",
   "metadata": {},
   "source": [
    "## Install FinTorch package"
   ]
  },
  {
   "cell_type": "code",
   "execution_count": null,
   "metadata": {},
   "outputs": [],
   "source": [
    "!pip install fintorch"
   ]
  },
  {
   "cell_type": "code",
   "execution_count": null,
   "metadata": {},
   "outputs": [],
   "source": [
    "import torch\n",
    "\n",
    "# Installation of PyTorch Geometric and dependencies based on detected versions\n",
    "def install_pyg_and_dependencies():\n",
    "  !pip install pyg-lib -f https://data.pyg.org/whl/torch-{torch.__version__}.html\n",
    "  !pip install torch-scatter torch-sparse -f https://data.pyg.org/whl/torch-{torch.__version__}.html\n",
    "\n",
    "# Detect PyTorch version\n",
    "if torch.__version__ >= \"1.13.0\":\n",
    "  print(\"PyTorch version 1.13.0 or newer detected. Installing PyG and dependencies...\")\n",
    "  install_pyg_and_dependencies()\n",
    "else:\n",
    "  print(\"PyTorch version is older than 1.13.0. PyG might not work correctly. Please upgrade PyTorch or use the pip install torch_geometric method.\")\n",
    "  \n",
    "\n",
    "# Verify installation\n",
    "try:\n",
    "  import torch_geometric\n",
    "  print(f\"PyTorch Geometric successfully installed. Version: {torch_geometric.__version__}\")\n",
    "except ImportError:\n",
    "  print(\"PyTorch Geometric not found. Installation might have failed.\")\n"
   ]
  },
  {
   "cell_type": "markdown",
   "metadata": {},
   "source": [
    "## Optional: colab Kaggle setups"
   ]
  },
  {
   "cell_type": "markdown",
   "metadata": {},
   "source": [
    "To download the dataset from Kaggle in Colab, you need to set your kaggle username and kaggle secret."
   ]
  },
  {
   "cell_type": "markdown",
   "metadata": {},
   "source": [
    "First configure the `KAGGLE_USERNAME` and `KAGGLE_SECRET` in colab.\n",
    "![Colab secrets](colabsecrets.png)\n",
    "\n",
    "Next, make the secrets available as environment variables as follows:"
   ]
  },
  {
   "cell_type": "code",
   "execution_count": null,
   "metadata": {},
   "outputs": [],
   "source": [
    "from google.colab import userdata\n",
    "import os\n",
    "\n",
    "os.environ[\"KAGGLE_KEY\"] = userdata.get('KAGGLE_KEY')\n",
    "os.environ[\"KAGGLE_USERNAME\"] = userdata.get('KAGGLE_USERNAME')"
   ]
  },
  {
   "cell_type": "markdown",
   "metadata": {},
   "source": [
    "## Dataset background\n",
    "The dataset description originates from [Kaggle Elliptic Dataset](https://www.kaggle.com/datasets/ellipticco/elliptic-data-set) and [GitHub Elliptic++ Dataset](https://github.com/git-disl/EllipticPlusPlus/tree/main?tab=readme-ov-file). The dataset consist of two parts:\n",
    "\n",
    "* **Actor dataset**: this dataset consists of 822k wallet addresses to enable the detection of illicit addresses (actors) in the Bitcoin network by leveraging graph data.\n",
    "* **Transaction dataset**: This anonymized dataset - with over 200k transactions - is a transaction graph collected from the Bitcoin blockchain. A node in the graph represents a transaction, an edge can be viewed as a flow of Bitcoins between one transaction and the other. Each node has 166 features and has been labeled as being created by a \"licit\", \"illicit\" or \"unknown\" entity.\n",
    "\n",
    "\n",
    "The following figure shows the schematic of the dataset as a graph ([source](https://github.com/git-disl/EllipticPlusPlus/blob/main/images/actorvizaddrtx.jpg)).\n",
    "Note that this is the graph with both wallets and transactions.\n",
    "\n",
    "![Schematic visualization of the Address-Transaction graph](actorvizaddrtx.jpg)\n",
    "\n",
    "We describe how the dataset is structured which enables us to develop models that detect, for example, fraudulent transactions. \n",
    "\n",
    "## Transaction graph\n",
    "We first describe the transaction graph from [Kaggle Elliptic Dataset](https://www.kaggle.com/datasets/ellipticco/elliptic-data-set). \n",
    "\n",
    "### Nodes and edges\n",
    "\n",
    "The transaction graph is made of 203,769 nodes and 234,355 edges. Two percent (4,545) of the nodes are labelled class 1 (illicit). Twenty-one percent (42,019) are labelled class 2 (licit). The remaining transactions are not labelled with regard to licit versus illicit.\n"
   ]
  },
  {
   "cell_type": "markdown",
   "metadata": {},
   "source": [
    "#### Features\n",
    "\n",
    "Each node in our dataset has 166 associated features.  Unfortunately, we can't disclose the full feature list but we can show categories of features.\n",
    "\n",
    "One key feature is a time step (1 to 49) representing when a Bitcoin transaction was broadcast. These time steps are spaced approximately two weeks apart. Within each time step, a single connected component captures transactions appearing on the blockchain within three hours of one another. Note that no connections exist between different time steps.\n",
    "\n",
    "The first 94 features provide localized transaction data. This includes the time step, input/output counts, fees, output volume, and averages like BTC received/spent by inputs/outputs, and average incoming/outgoing transaction counts for inputs/outputs.\n",
    "\n",
    "The final 72 features are aggregates derived from transactions one hop away (backward/forward) from the central node. These include maximums, minimums, standard deviations, and correlation coefficients for the same localized data (input/output counts, fees, etc.).\n",
    "\n",
    "\n",
    "For detailed statistics, please visit the Kaggle Data Explorer of the [Elliptic Data Set](https://www.kaggle.com/datasets/ellipticco/elliptic-data-set). "
   ]
  },
  {
   "cell_type": "markdown",
   "metadata": {},
   "source": [
    "## Loading the data\n",
    "We use the FinTorch.datasets library to load the [Elliptic Data Set](https://www.kaggle.com/datasets/ellipticco/elliptic-data-set). The following code downloads the dataset:"
   ]
  },
  {
   "cell_type": "code",
   "execution_count": 1,
   "metadata": {},
   "outputs": [
    {
     "name": "stderr",
     "output_type": "stream",
     "text": [
      "Processing...\n",
      "Done!\n"
     ]
    }
   ],
   "source": [
    "# from fintorch.datasets import elliptic\n",
    "from fintorch.datasets import elliptic\n",
    "\n",
    "# Load the elliptic dataset\n",
    "elliptic_dataset = elliptic.TransactionDataset('~/.fintorch_data', force_reload=True)"
   ]
  },
  {
   "cell_type": "markdown",
   "metadata": {},
   "source": [
    "Let's discuss the code line by line:\n",
    "\n",
    "1. **Importing:** We import the elliptic module from the fintorch.datasets package. This module provides convenient access to the Elliptic Bitcoin Dataset.\n",
    "\n",
    "2. **Loading the Dataset:** We create an instance of the elliptic.TransactionDataset class and store it in the dataset variable. This loads the dataset from Kaggle and places it in the .fintorch_data/ directory. The fintorch framework uses with the [Kaggle API](https://github.com/Kaggle/kaggle-api) to download datasets. Make sure you've followed the instructions in the fintorch documentation to set up your Kaggle API credentials for seamless data access.\n",
    "\n",
    "\n",
    "\n",
    "With the dataset ready, let's examine its structure. "
   ]
  },
  {
   "cell_type": "markdown",
   "metadata": {},
   "source": [
    "We will render the transaction graph first. We will sample from the complete graph and display a sub-graph."
   ]
  },
  {
   "cell_type": "code",
   "execution_count": 2,
   "metadata": {},
   "outputs": [
    {
     "name": "stdout",
     "output_type": "stream",
     "text": [
      "Start-node BFS:118214\n",
      "Sub-graph nodes:244 \n"
     ]
    },
    {
     "data": {
      "image/png": "[encoded data removed]",
      "text/plain": [
       "<Figure size 1000x800 with 1 Axes>"
      ]
     },
     "metadata": {},
     "output_type": "display_data"
    }
   ],
   "source": [
    "import networkx as nx\n",
    "import numpy as np\n",
    "import seaborn as sns\n",
    "import matplotlib.pyplot as plt\n",
    "from torch_geometric.utils.convert import to_networkx\n",
    "\n",
    "# Create a networkx dataset for plotting\n",
    "graph = to_networkx(elliptic_dataset[0], to_undirected=True)\n",
    "\n",
    "# Perform a breadth-first random walk from an illicit node\n",
    "start_node = np.random.choice(np.where(elliptic_dataset[0].y.numpy() == 1)[0]) \n",
    "print(f\"Start-node BFS:{start_node}\")\n",
    "subgraph_edges = nx.bfs_edges(graph, start_node, depth_limit=5)\n",
    "\n",
    "# Create the sub-graph\n",
    "subgraph = graph.edge_subgraph(subgraph_edges)\n",
    "\n",
    "print(f\"Sub-graph nodes:{len(subgraph.nodes())} \")\n",
    "\n",
    "# Plot the network using seaborn\n",
    "sns.set(style=\"white\")\n",
    "plt.figure(figsize=(10, 8))\n",
    "pos = nx.spring_layout(subgraph)\n",
    "nx.draw_networkx(subgraph, pos, with_labels=False, node_color=elliptic_dataset[0].y.numpy()[subgraph.nodes()], cmap='viridis', node_size=20)\n",
    "plt.title('Network Visualization')\n",
    "plt.axis('off')\n",
    "plt.show()\n"
   ]
  },
  {
   "cell_type": "markdown",
   "metadata": {},
   "source": [
    "Here a subgraph is shown. We sampled a random illicit node from the complete undirected graph. Then, we perform a breadth-first search to select nodes in the sub-graph. The colors represent the different types of nodes: licit, illicit, and unknown."
   ]
  },
  {
   "cell_type": "markdown",
   "metadata": {},
   "source": [
    "## Exploration\n"
   ]
  },
  {
   "cell_type": "markdown",
   "metadata": {},
   "source": [
    "We convert the PyTorch DataSet into a Polars DataSet and perform basic exploratory data analysis:"
   ]
  },
  {
   "cell_type": "code",
   "execution_count": 3,
   "metadata": {},
   "outputs": [
    {
     "data": {
      "text/plain": [
       "fintorch.datasets.elliptic.TransactionDataset"
      ]
     },
     "execution_count": 3,
     "metadata": {},
     "output_type": "execute_result"
    }
   ],
   "source": [
    "type(elliptic_dataset)"
   ]
  },
  {
   "cell_type": "code",
   "execution_count": 4,
   "metadata": {},
   "outputs": [
    {
     "data": {
      "text/plain": [
       "torch.Size([203769, 166])"
      ]
     },
     "execution_count": 4,
     "metadata": {},
     "output_type": "execute_result"
    }
   ],
   "source": [
    "elliptic_dataset.x.shape"
   ]
  },
  {
   "cell_type": "markdown",
   "metadata": {},
   "source": [
    "We have a single graph thus we access element 0 in the data list:"
   ]
  },
  {
   "cell_type": "code",
   "execution_count": 5,
   "metadata": {},
   "outputs": [
    {
     "data": {
      "text/plain": [
       "Data(x=[203769, 166], edge_index=[2, 234355], y=[203769], train_mask=[203769], val_mask=[203769], test_mask=[203769])"
      ]
     },
     "execution_count": 5,
     "metadata": {},
     "output_type": "execute_result"
    }
   ],
   "source": [
    "elliptic_dataset[0]"
   ]
  },
  {
   "cell_type": "markdown",
   "metadata": {},
   "source": [
    "We have the following elements in the dataset:\n",
    "\n",
    "* **x:** 203.769 nodes with 166 feature values\n",
    "* **edge_index:** 234.355 pairs of nodes representing the edges between nodes. Note that we transformed the node names into indices. The mapping is stored in *elliptic_dataset.map_id*\n",
    "* **train_mask:** a mask to indicate which nodes are used to train the model\n",
    "* **val_mask:** a mask to indicate which nodes are used as validation set\n",
    "* **test_mask:** a mask to indicate which nodes are used as a test set\n",
    "\n",
    "In addition, we can query some properties of the dataset:"
   ]
  },
  {
   "cell_type": "code",
   "execution_count": 6,
   "metadata": {},
   "outputs": [
    {
     "name": "stdout",
     "output_type": "stream",
     "text": [
      "Number of node features: 166\n",
      "Number of edge features: 0\n",
      "Number of classes: 3\n",
      "Feature input matrix shape:torch.Size([203769, 166])\n",
      "Edge index feature matrix shape:torch.Size([2, 234355])\n",
      "Label feature matrix shape:torch.Size([203769])\n"
     ]
    }
   ],
   "source": [
    "print(f'Number of node features: {elliptic_dataset.num_features}')\n",
    "print(f'Number of edge features: {elliptic_dataset.num_edge_features}')\n",
    "print(f'Number of classes: {elliptic_dataset.num_classes}')\n",
    "print(f'Feature input matrix shape:{elliptic_dataset.x.shape}')\n",
    "print(f'Edge index feature matrix shape:{elliptic_dataset.edge_index.shape}')\n",
    "print(f'Label feature matrix shape:{elliptic_dataset.y.shape}')"
   ]
  },
  {
   "cell_type": "code",
   "execution_count": 7,
   "metadata": {},
   "outputs": [
    {
     "name": "stdout",
     "output_type": "stream",
     "text": [
      "shape: (3, 3)\n",
      "┌─────┬────────┬──────────────────┐\n",
      "│     ┆ count  ┆ count_normalized │\n",
      "│ --- ┆ ---    ┆ ---              │\n",
      "│ i64 ┆ u32    ┆ f64              │\n",
      "╞═════╪════════╪══════════════════╡\n",
      "│ 2   ┆ 157205 ┆ 0.771486         │\n",
      "│ 0   ┆ 42019  ┆ 0.206209         │\n",
      "│ 1   ┆ 4545   ┆ 0.022305         │\n",
      "└─────┴────────┴──────────────────┘\n"
     ]
    }
   ],
   "source": [
    "import polars as pol\n",
    "\n",
    "# Convert elliptic_dataset.y to a numpy array and then to a polars Series\n",
    "y_series = pol.Series(elliptic_dataset.y.numpy())\n",
    "\n",
    "# Calculate the fraction of each value in the distribution\n",
    "fraction = y_series.value_counts() \n",
    "# Normalize the count column in fraction\n",
    "fraction = fraction.with_columns(count_normalized = fraction['count'] / y_series.shape[0])\n",
    "\n",
    "\n",
    "# Print the fraction of the value distribution\n",
    "print(fraction)\n"
   ]
  },
  {
   "cell_type": "markdown",
   "metadata": {},
   "source": [
    "The class distribution reveals a severe imbalance, with the \"unknown\" class dominating 80% of the dataset. This means that a naive model could achieve a misleadingly high accuracy of 80% simply by always predicting the majority class.  It's crucial to be aware of this imbalance when evaluating model performance on this dataset. \n",
    "Relying solely on accuracy could lead to the false impression that a model is performing well, when in reality it's merely taking advantage of the skewed distribution. \n",
    "To get a true understanding of model performance, consider metrics like precision, recall, and F1-score. \n",
    "Additionally, it's important to explore techniques for addressing class imbalance, such as resampling, cost-sensitive learning, or specialized loss functions."
   ]
  },
  {
   "cell_type": "markdown",
   "metadata": {},
   "source": [
    "## Simple model\n",
    "While we'll demonstrate loading the Elliptic dataset into a simple graph neural network model and use accuracy as the evaluation metric for illustrative purposes, it's important to remember the class imbalance we just discussed. In this case, accuracy alone won't be a reliable measure of performance. Our main focus here is to showcase the loading process, not achieve optimal performance. "
   ]
  },
  {
   "cell_type": "markdown",
   "metadata": {},
   "source": [
    "This code defines a Graph Neural Network (GNN) model for processing data arranged in graphs. It takes node features and information about how the nodes connect as inputs. The model then stacks several layers that combine features from neighboring nodes, similar to how information spreads in a network. Finally, it outputs a new set of features for each node, potentially useful for classification tasks."
   ]
  },
  {
   "cell_type": "code",
   "execution_count": 8,
   "metadata": {},
   "outputs": [],
   "source": [
    "from torch import Tensor\n",
    "import torch.nn as nn\n",
    "import torch_geometric.nn as geom_nn\n",
    "\n",
    "import torch.optim as optim\n",
    "\n",
    "\n",
    "class GNNModel(nn.Module):\n",
    "\n",
    "    def __init__(self, c_in: int, c_hidden: int, c_out: int, num_layers: int = 5, dp_rate: float = 0.1, **kwargs):\n",
    "        \"\"\"\n",
    "        Initialize the Elliptical class.\n",
    "\n",
    "        Args:\n",
    "            c_in (int): Number of input channels.\n",
    "            c_hidden (int): Number of hidden channels.\n",
    "            c_out (int): Number of output channels.\n",
    "            num_layers (int, optional): Number of GNN layers. Defaults to 5.\n",
    "            dp_rate (float, optional): Dropout rate. Defaults to 0.1.\n",
    "            **kwargs: Additional keyword arguments to be passed to the GNN layers.\n",
    "\n",
    "        Returns:\n",
    "            None\n",
    "        \"\"\"\n",
    "\n",
    "        super().__init__()\n",
    "        gnn_layer = geom_nn.GCNConv\n",
    "\n",
    "        layers = []\n",
    "        in_channels, out_channels = c_in, c_hidden\n",
    "        for _ in range(num_layers-1):\n",
    "            layers += [\n",
    "                gnn_layer(in_channels=in_channels,\n",
    "                          out_channels=out_channels,\n",
    "                          **kwargs),\n",
    "                nn.ReLU(inplace=True),\n",
    "                nn.Dropout(dp_rate)\n",
    "            ]\n",
    "            in_channels = c_hidden\n",
    "        layers += [gnn_layer(in_channels=in_channels,\n",
    "                             out_channels=c_out,\n",
    "                             **kwargs)]\n",
    "        self.layers = nn.ModuleList(layers)\n",
    "\n",
    "    def forward(self, x: Tensor, edge_index: Tensor) -> Tensor:\n",
    "        \"\"\"\n",
    "        Forward pass of the model.\n",
    "\n",
    "        Args:\n",
    "            x (Tensor): Input tensor.\n",
    "            edge_index (Tensor): Edge index tensor.\n",
    "\n",
    "        Returns:\n",
    "            Tensor: Output tensor.\n",
    "        \"\"\"\n",
    "\n",
    "        for l in self.layers:\n",
    "            if isinstance(l, geom_nn.MessagePassing):\n",
    "                # In case of a geom layer, also pass the edge_index list\n",
    "                x = l(x, edge_index)\n",
    "            else:\n",
    "                x = l(x)\n",
    "\n",
    "        return x"
   ]
  },
  {
   "cell_type": "markdown",
   "metadata": {},
   "source": [
    "The following code builds on the GNN model by turning it into a PyTorch Lightning module for training and evaluation. We define a GNN class that trains the model to predict the class of individual nodes in a graph. During training, we calculate accuracy and loss on a subset of nodes (masks) and update the model weights to minimize the loss. We also track the accuracy on validation and test sets to monitor the model's performance."
   ]
  },
  {
   "cell_type": "code",
   "execution_count": null,
   "metadata": {},
   "outputs": [],
   "source": [
    "import torchmetrics\n",
    "import lightning.pytorch as pl\n",
    "\n",
    "class GNN(pl.LightningModule):\n",
    "\n",
    "    def __init__(self, **model_kwargs):\n",
    "        super().__init__()\n",
    "        self.save_hyperparameters()\n",
    "\n",
    "        self.accuracy = torchmetrics.classification.Accuracy(task=\"multiclass\", num_classes=3)\n",
    "\n",
    "        self.model = GNNModel(**model_kwargs)\n",
    "        self.loss_module = nn.CrossEntropyLoss()\n",
    "\n",
    "    def forward(self, data, mode=\"train\"):\n",
    "        x, edge_index = data.x, data.edge_index\n",
    "        x = self.model(x, edge_index)\n",
    "\n",
    "        # Get the mask \n",
    "        if mode == \"train\":\n",
    "            mask = data.train_mask\n",
    "        elif mode == \"val\":\n",
    "            mask = data.val_mask\n",
    "        elif mode == \"test\":\n",
    "            mask = data.test_mask\n",
    "        else:\n",
    "            assert False, f\"Unknown forward mode: {mode}\"\n",
    "\n",
    "        # Calculate the loss for the mask\n",
    "        loss = self.loss_module(x[mask], data.y[mask].long())\n",
    "        pred = x[mask].argmax(dim=-1)\n",
    "        \n",
    "        return loss, pred, data.y[mask]\n",
    "\n",
    "    def configure_optimizers(self):\n",
    "        optimizer = optim.Adam(self.parameters(), lr=0.05)\n",
    "        return optimizer\n",
    "\n",
    "    def training_step(self, batch, batch_idx):\n",
    "        loss, preds, y = self.forward(batch, mode=\"train\")\n",
    "\n",
    "        # log step metric\n",
    "        self.accuracy(preds, y)\n",
    "        self.log('train_acc_step', self.accuracy)\n",
    "\n",
    "        self.log('train_loss', loss)\n",
    "        return loss\n",
    "\n",
    "    def validation_step(self, batch, batch_idx):\n",
    "        loss, preds, y = self.forward(batch, mode=\"val\")\n",
    "\n",
    "        # log step metric\n",
    "        self.accuracy(preds, y)\n",
    "        self.log('val_acc_step', self.accuracy)\n",
    "\n",
    "    def test_step(self, batch, batch_idx):\n",
    "        loss, preds, y = self.forward(batch, mode=\"test\")\n",
    "\n",
    "        # log step metric\n",
    "        self.accuracy(preds, y)\n",
    "        self.log('test_acc_step', self.accuracy)\n"
   ]
  },
  {
   "cell_type": "markdown",
   "metadata": {},
   "source": [
    "The following code sets up the training process for our model. It prepares the graph dataset for training using a DataLoader, creates the GNN model, configures a PyTorch Lightning trainer to manage the training process on a GPU or CPU, trains the model, tests its performance on a test set, and finally returns the trained GNN model."
   ]
  },
  {
   "cell_type": "code",
   "execution_count": 10,
   "metadata": {},
   "outputs": [],
   "source": [
    "from torch_geometric.loader import DataLoader\n",
    "\n",
    "def train_node_classifier(dataset, **model_kwargs):\n",
    "    node_data_loader = DataLoader(dataset, batch_size = 1)\n",
    "\n",
    "    # Create a PyTorch Lightning trainer with the generation callback\n",
    "    trainer = pl.Trainer(accelerator=\"cpu\",\n",
    "                         devices=1,\n",
    "                         max_epochs=10,\n",
    "                         enable_progress_bar=False) # False because epoch size is 1\n",
    "    \n",
    "    # Note: the dimensions are specific for the Elliptic dataset\n",
    "    model = GNN(c_in=166, c_out=3, **model_kwargs)\n",
    "    trainer.fit(model, train_dataloaders=node_data_loader, val_dataloaders=node_data_loader)\n",
    "\n",
    "    # Test best model on the test set\n",
    "    trainer.test(model, node_data_loader, verbose=True)\n",
    "\n",
    "\n",
    "    return model"
   ]
  },
  {
   "cell_type": "markdown",
   "metadata": {},
   "source": [
    "Here we call the code to train the model"
   ]
  },
  {
   "cell_type": "code",
   "execution_count": 11,
   "metadata": {},
   "outputs": [
    {
     "name": "stderr",
     "output_type": "stream",
     "text": [
      "GPU available: False, used: False\n",
      "TPU available: False, using: 0 TPU cores\n",
      "IPU available: False, using: 0 IPUs\n",
      "HPU available: False, using: 0 HPUs\n",
      "/home/vscode/.local/lib/python3.11/site-packages/pytorch_lightning/trainer/connectors/logger_connector/logger_connector.py:75: Starting from v1.9.0, `tensorboardX` has been removed as a dependency of the `pytorch_lightning` package, due to potential conflicts with other packages in the ML ecosystem. For this reason, `logger=True` will use `CSVLogger` as the default logger, unless the `tensorboard` or `tensorboardX` packages are found. Please `pip install lightning[extra]` or one of them to enable TensorBoard support by default\n",
      "\n",
      "  | Name        | Type               | Params\n",
      "---------------------------------------------------\n",
      "0 | accuracy    | MulticlassAccuracy | 0     \n",
      "1 | model       | GNNModel           | 3.5 K \n",
      "2 | loss_module | CrossEntropyLoss   | 0     \n",
      "---------------------------------------------------\n",
      "3.5 K     Trainable params\n",
      "0         Non-trainable params\n",
      "3.5 K     Total params\n",
      "0.014     Total estimated model params size (MB)\n",
      "/home/vscode/.local/lib/python3.11/site-packages/pytorch_lightning/trainer/connectors/data_connector.py:441: The 'val_dataloader' does not have many workers which may be a bottleneck. Consider increasing the value of the `num_workers` argument` to `num_workers=9` in the `DataLoader` to improve performance.\n",
      "/home/vscode/.local/lib/python3.11/site-packages/pytorch_lightning/trainer/connectors/data_connector.py:441: The 'train_dataloader' does not have many workers which may be a bottleneck. Consider increasing the value of the `num_workers` argument` to `num_workers=9` in the `DataLoader` to improve performance.\n",
      "/home/vscode/.local/lib/python3.11/site-packages/pytorch_lightning/loops/fit_loop.py:298: The number of training batches (1) is smaller than the logging interval Trainer(log_every_n_steps=50). Set a lower value for log_every_n_steps if you want to see logs for the training epoch.\n",
      "`Trainer.fit` stopped: `max_epochs=10` reached.\n",
      "/home/vscode/.local/lib/python3.11/site-packages/pytorch_lightning/trainer/connectors/data_connector.py:441: The 'test_dataloader' does not have many workers which may be a bottleneck. Consider increasing the value of the `num_workers` argument` to `num_workers=9` in the `DataLoader` to improve performance.\n"
     ]
    },
    {
     "name": "stdout",
     "output_type": "stream",
     "text": [
      "────────────────────────────────────────────────────────────────────────────────────────────────────────────────────────\n",
      "       Test metric             DataLoader 0\n",
      "────────────────────────────────────────────────────────────────────────────────────────────────────────────────────────\n",
      "      test_acc_step         0.7706350088119507\n",
      "────────────────────────────────────────────────────────────────────────────────────────────────────────────────────────\n"
     ]
    }
   ],
   "source": [
    "node_gnn_model = train_node_classifier(dataset=elliptic_dataset,\n",
    "                                                        c_hidden=16,\n",
    "                                                        num_layers=5,\n",
    "                                                        dp_rate=0.1)"
   ]
  },
  {
   "cell_type": "markdown",
   "metadata": {},
   "source": [
    "The training ran on a GPU or CPU and successfully trained your GNN model with 3.5k parameters. It reached the maximum of 10 epochs. On the test data, the model achieved an accuracy of around 80%. Note that this accuracy level is misleading! \n",
    "Let's check what it actually predicts with the following code:"
   ]
  },
  {
   "cell_type": "code",
   "execution_count": 12,
   "metadata": {},
   "outputs": [
    {
     "name": "stdout",
     "output_type": "stream",
     "text": [
      "shape: (2, 3)\n",
      "┌─────┬────────┬──────────────────┐\n",
      "│     ┆ count  ┆ count_normalized │\n",
      "│ --- ┆ ---    ┆ ---              │\n",
      "│ i64 ┆ u32    ┆ f64              │\n",
      "╞═════╪════════╪══════════════════╡\n",
      "│ 2   ┆ 174605 ┆ 0.856877         │\n",
      "│ 0   ┆ 29164  ┆ 0.143123         │\n",
      "└─────┴────────┴──────────────────┘\n"
     ]
    }
   ],
   "source": [
    "import torch\n",
    "import polars as pol\n",
    "\n",
    "output = node_gnn_model.model(elliptic_dataset.x, elliptic_dataset.edge_index)\n",
    "# Assuming your tensor is named 'tensor'\n",
    "argmax_tensor = torch.argmax(output, dim=1)\n",
    "\n",
    "# Convert elliptic_dataset.y to a numpy array and then to a polars Series\n",
    "y_series = pol.Series(argmax_tensor.numpy())\n",
    "\n",
    "# Calculate the fraction of each value in the distribution\n",
    "fraction = y_series.value_counts() \n",
    "# Normalize the count column in fraction\n",
    "fraction = fraction.with_columns(count_normalized = fraction['count'] / y_series.shape[0])\n",
    "\n",
    "# Print the fraction of the value distribution\n",
    "print(fraction)"
   ]
  },
  {
   "cell_type": "markdown",
   "metadata": {},
   "source": [
    "The model almost only predicts a single class and achieves high levels of accuracy!"
   ]
  },
  {
   "cell_type": "markdown",
   "metadata": {},
   "source": [
    "## The Actor-Transaction graph\n",
    "Here we discuss the Elliptic++ dataset [GitHub Elliptic++ Dataset](https://github.com/git-disl/EllipticPlusPlus/tree/main?tab=readme-ov-file). This includes transactions and wallets, where the wallet/actor can be illicit, licit, or unknown status. Each actor sends transactions in the networks, some of which are illicit, licit, or unknown status.\n",
    "Compared to the previous graph, we know have the actors/wallets as a new set of nodes in the graph structure. This results in a Bipartite graph which we want to analyze using Pytorch Geometric. Therefore, the dataset returned is of type HeteroData, and here we show how to build a simple Graph Neural Network for HeteroData. Let's first discuss the features of the actor/wallet dataset:"
   ]
  },
  {
   "cell_type": "markdown",
   "metadata": {},
   "source": [
    "### Actor features:\n",
    "\n",
    "| Feature | Description |\n",
    "|---|---|\n",
    "| **Transaction related** | |\n",
    "| BTCtransacted | Total BTC transacted (sent+received) |\n",
    "| BTCsent | Total BTC sent |\n",
    "| BTCreceived | Total BTC received |\n",
    "| Fees | Total fees in BTC |\n",
    "| Feesshare | Total fees as share of BTC transacted |\n",
    "| **Time related** | |\n",
    "| Blockstxs | Number of blocks between transactions |\n",
    "| Blocksinput | Number of blocks between being an input address |\n",
    "| Blocksoutput | Number of blocks between being an output address |\n",
    "| Addr interactions | Number of interactions among addresses<br>5 values: total, min, max, mean, median |\n",
    "| Class | Class label: {illicit, licit, unknown} |\n",
    "| **Transaction related** | |\n",
    "| Txstotal | Total number of blockchain transactions |\n",
    "| TxSinput | Total number of dataset transactions as input address |\n",
    "| TxSoutput | Total number of dataset transactions as output address |\n",
    "| **Time related** | |\n",
    "| Timesteps | Number of time steps transacting in |\n",
    "| Lifetime | Lifetime in blocks |\n",
    "| Block first | Block height first transacted in |\n",
    "| Blocklast | Block height last transacted in |\n",
    "| Block first sent | Block height first sent in |\n",
    "| Block first receive | Block height first received in |\n",
    "| Repeat interactions | Number of addresses transacted with multiple times<br>single value |"
   ]
  },
  {
   "cell_type": "code",
   "execution_count": 13,
   "metadata": {},
   "outputs": [
    {
     "name": "stderr",
     "output_type": "stream",
     "text": [
      "/home/vscode/.local/lib/python3.11/site-packages/tqdm/auto.py:21: TqdmWarning: IProgress not found. Please update jupyter and ipywidgets. See https://ipywidgets.readthedocs.io/en/stable/user_install.html\n",
      "  from .autonotebook import tqdm as notebook_tqdm\n"
     ]
    },
    {
     "name": "stdout",
     "output_type": "stream",
     "text": [
      "Start download from HuggingFace...\n"
     ]
    },
    {
     "name": "stderr",
     "output_type": "stream",
     "text": [
      "100%|██████████| 7/7 [00:01<00:00,  6.72it/s]\n",
      "Processing...\n",
      "Done!\n"
     ]
    },
    {
     "data": {
      "text/plain": [
       "HeteroData(\n",
       "  wallets={\n",
       "    x=[1268260, 55],\n",
       "    y=[1268260],\n",
       "    train_mask=[1268260],\n",
       "    val_mask=[1268260],\n",
       "    test_mask=[1268260],\n",
       "  },\n",
       "  transactions={\n",
       "    x=[203769, 182],\n",
       "    y=[203769],\n",
       "    train_mask=[203769],\n",
       "    val_mask=[203769],\n",
       "    test_mask=[203769],\n",
       "  },\n",
       "  (transactions, to, transactions)={ edge_index=[2, 234355] },\n",
       "  (transactions, to, wallets)={ edge_index=[2, 837124] },\n",
       "  (wallets, to, transactions)={ edge_index=[2, 477117] },\n",
       "  (wallets, to, wallets)={ edge_index=[2, 2868964] }\n",
       ")"
      ]
     },
     "execution_count": 13,
     "metadata": {},
     "output_type": "execute_result"
    }
   ],
   "source": [
    "from fintorch.datasets import ellipticpp\n",
    "\n",
    "# Load the elliptic dataset\n",
    "actor_transaction_graph = ellipticpp.TransactionActorDataset('~/.fintorch_data', force_reload=True)\n",
    "actor_transaction_graph[0]"
   ]
  },
  {
   "cell_type": "markdown",
   "metadata": {},
   "source": [
    "## Simple hetero model\n",
    "Let's create a GGN as follows:"
   ]
  },
  {
   "cell_type": "code",
   "execution_count": 14,
   "metadata": {},
   "outputs": [
    {
     "name": "stdout",
     "output_type": "stream",
     "text": [
      "(['wallets', 'transactions'], [('transactions', 'to', 'transactions'), ('transactions', 'to', 'wallets'), ('wallets', 'to', 'transactions'), ('wallets', 'to', 'wallets')])\n"
     ]
    },
    {
     "data": {
      "text/plain": [
       "GraphModule(\n",
       "  (conv1): ModuleDict(\n",
       "    (transactions__to__transactions): SAGEConv((-1, -1), 64, aggr=mean)\n",
       "    (transactions__to__wallets): SAGEConv((-1, -1), 64, aggr=mean)\n",
       "    (wallets__to__transactions): SAGEConv((-1, -1), 64, aggr=mean)\n",
       "    (wallets__to__wallets): SAGEConv((-1, -1), 64, aggr=mean)\n",
       "  )\n",
       "  (conv2): ModuleDict(\n",
       "    (transactions__to__transactions): SAGEConv((-1, -1), 3, aggr=mean)\n",
       "    (transactions__to__wallets): SAGEConv((-1, -1), 3, aggr=mean)\n",
       "    (wallets__to__transactions): SAGEConv((-1, -1), 3, aggr=mean)\n",
       "    (wallets__to__wallets): SAGEConv((-1, -1), 3, aggr=mean)\n",
       "  )\n",
       ")"
      ]
     },
     "execution_count": 14,
     "metadata": {},
     "output_type": "execute_result"
    }
   ],
   "source": [
    "import torch_geometric.transforms as T\n",
    "from torch_geometric.datasets import OGB_MAG\n",
    "from torch_geometric.nn import SAGEConv, to_hetero\n",
    "\n",
    "\n",
    "data = actor_transaction_graph[0]\n",
    "\n",
    "class GNN(torch.nn.Module):\n",
    "    def __init__(self, hidden_channels, out_channels):\n",
    "        super().__init__()\n",
    "        self.conv1 = SAGEConv((-1, -1), hidden_channels)\n",
    "        self.conv2 = SAGEConv((-1, -1), out_channels)\n",
    "\n",
    "    def forward(self, x, edge_index):\n",
    "        x = self.conv1(x, edge_index)\n",
    "        x = self.conv2(x, edge_index)\n",
    "        return x\n",
    "\n",
    "\n",
    "model = GNN(hidden_channels=64, out_channels=3)\n",
    "model = to_hetero(model, data.metadata(), aggr='sum')\n",
    "print(data.metadata())\n",
    "model"
   ]
  },
  {
   "cell_type": "markdown",
   "metadata": {},
   "source": [
    "We define a Graph Neural Network (GNN) model capable of processing graphs. The GNN class we construct takes hidden and output feature dimensions as input and sets up a two-layer GNN architecture using SAGEConv layers. The forward method outlines how node features and graph connectivity information are processed through these layers to learn new feature representations for the nodes.\n",
    "\n",
    "Next, we instantiate this GNN and convert it to work with a heterogeneous graph using the to_hetero function. A heterogeneous graph contains different types of nodes (like wallets and transactions) and edges (representing relationships between them). This conversion likely creates multiple specialized SAGEConv layers within our model, one for each type of edge relationship in the graph. Finally, we inspect the graph structure (node and edge types) and the structure of our resulting GNN module, including its specialized convolutions."
   ]
  },
  {
   "cell_type": "markdown",
   "metadata": {},
   "source": [
    "Next we show a simple forward pass through the model using the HeteroData dataset."
   ]
  },
  {
   "cell_type": "code",
   "execution_count": 15,
   "metadata": {},
   "outputs": [
    {
     "name": "stdout",
     "output_type": "stream",
     "text": [
      "{'wallets': tensor([[  -9480.3672,  -68641.8281,  -84252.0000],\n",
      "        [   1002.8320,  -82406.6406,  -88378.7812],\n",
      "        [   1002.8320,  -82406.6406,  -88378.7812],\n",
      "        ...,\n",
      "        [ -24063.7500,    7173.9922, -130682.9297],\n",
      "        [ -10134.7188,  -66146.9062,  -87580.1641],\n",
      "        [  61478.8516,  -96403.6094,   -3982.5977]]), 'transactions': tensor([[-6.8772e+04,  1.1524e+05, -1.4699e+04],\n",
      "        [-6.6411e+04,  1.1910e+05, -1.5014e+04],\n",
      "        [-7.8126e+04,  1.3920e+05, -8.8606e+03],\n",
      "        ...,\n",
      "        [-5.6223e-01,  1.8661e-01,  2.4042e-01],\n",
      "        [-3.8677e-02,  3.6173e-01,  1.0702e-01],\n",
      "        [ 1.1682e-01,  1.0893e-01,  1.8528e-01]])}\n"
     ]
    }
   ],
   "source": [
    "with torch.no_grad(): \n",
    "     out = model(data.x_dict, data.edge_index_dict)\n",
    "     print(out)"
   ]
  },
  {
   "cell_type": "markdown",
   "metadata": {},
   "source": [
    "We start by using with torch.no_grad() to temporarily disable gradient calculations within the block of code that follows. This is a common technique for improving efficiency and reducing memory usage during inference when we don't need to update the model's parameters. Next, we pass our input data (data.x_dict and data.edge_index_dict) to the GNN model and store the result in the out variable. Finally, we print the out variable to inspect the output generated by the model."
   ]
  },
  {
   "cell_type": "markdown",
   "metadata": {},
   "source": [
    "## Conclusion\n",
    "In this hands-on Python tutorial, we've dived into an intriguing blockchain transaction dataset. We explored how to prepare this data for machine learning models using the powerful PyTorch Geometric and PyTorch Lightning frameworks.  By following these steps, you've built a solid foundation for training various machine learning models on this dataset. This opens doors to exciting applications like fraud detection, transaction pattern analysis, and even predicting blockchain network behavior. Remember, practice and exploration are key to mastering these techniques.  Feel free to revisit this dataset and try your hand at fraud detection or other applications that interest you!"
   ]
  },
  {
   "cell_type": "markdown",
   "metadata": {},
   "source": [
    "## References\n",
    "- Youssef Elmougy and Ling Liu. 2023. Demystifying Fraudulent Transactions and Illicit Nodes in the Bitcoin Network for Financial Forensics. In Proceedings of the 29th ACM SIGKDD Conference on Knowledge Discovery and Data Mining (KDD ’23), August 6–10, 2023, Long Beach, CA, USA. ACM, New York, NY, USA, 12 pages. https://doi.org/10.1145/3580305.3599803"
   ]
  }
 ],
 "metadata": {
  "kernelspec": {
   "display_name": "Python 3",
   "language": "python",
   "name": "python3"
  },
  "language_info": {
   "codemirror_mode": {
    "name": "ipython",
    "version": 3
   },
   "file_extension": ".py",
   "mimetype": "text/x-python",
   "name": "python",
   "nbconvert_exporter": "python",
   "pygments_lexer": "ipython3",
   "version": "3.11.8"
  }
 },
 "nbformat": 4,
 "nbformat_minor": 2
}
