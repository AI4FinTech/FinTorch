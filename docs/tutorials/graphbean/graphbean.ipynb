{
 "cells": [
  {
   "cell_type": "code",
   "execution_count": null,
   "metadata": {},
   "outputs": [],
   "source": []
  },
  {
   "cell_type": "code",
   "execution_count": 1,
   "metadata": {},
   "outputs": [],
   "source": [
    "import lightning as L\n",
    "from torch_geometric.nn.conv import TransformerConv\n",
    "\n",
    "from fintorch.datasets.ellipticpp import EllipticDataModule\n",
    "from fintorch.models.graph.graphBEAN import GraphBEANModule\n",
    "\n"
   ]
  },
  {
   "cell_type": "code",
   "execution_count": 2,
   "metadata": {},
   "outputs": [],
   "source": [
    "# We use an example data module from the elliptic dataset which is bipartite\n",
    "data_module = EllipticDataModule((\"wallets\", \"to\", \"transactions\"))\n"
   ]
  },
  {
   "cell_type": "code",
   "execution_count": 6,
   "metadata": {},
   "outputs": [
    {
     "name": "stdout",
     "output_type": "stream",
     "text": [
      "Start download from HuggingFace...\n"
     ]
    },
    {
     "name": "stderr",
     "output_type": "stream",
     "text": [
      "100%|██████████| 7/7 [00:00<00:00,  8.11it/s]\n"
     ]
    },
    {
     "data": {
      "text/plain": [
       "HeteroData(\n",
       "  wallets={\n",
       "    x=[1268260, 55],\n",
       "    y=[1268260],\n",
       "    train_mask=[1268260],\n",
       "    val_mask=[1268260],\n",
       "    test_mask=[1268260],\n",
       "  },\n",
       "  transactions={\n",
       "    x=[203769, 182],\n",
       "    y=[203769],\n",
       "    train_mask=[203769],\n",
       "    val_mask=[203769],\n",
       "    test_mask=[203769],\n",
       "  },\n",
       "  (transactions, to, transactions)={ edge_index=[2, 234355] },\n",
       "  (transactions, to, wallets)={ edge_index=[2, 837124] },\n",
       "  (wallets, to, transactions)={ edge_index=[2, 477117] },\n",
       "  (wallets, to, wallets)={ edge_index=[2, 2868964] }\n",
       ")"
      ]
     },
     "execution_count": 6,
     "metadata": {},
     "output_type": "execute_result"
    }
   ],
   "source": [
    "data_module.setup()\n",
    "\n",
    "data_module.dataset"
   ]
  },
  {
   "cell_type": "code",
   "execution_count": 7,
   "metadata": {},
   "outputs": [
    {
     "data": {
      "text/plain": [
       "(['wallets', 'transactions'],\n",
       " [('transactions', 'to', 'transactions'),\n",
       "  ('transactions', 'to', 'wallets'),\n",
       "  ('wallets', 'to', 'transactions'),\n",
       "  ('wallets', 'to', 'wallets')])"
      ]
     },
     "execution_count": 7,
     "metadata": {},
     "output_type": "execute_result"
    }
   ],
   "source": [
    "data_module.dataset.metadata()"
   ]
  },
  {
   "cell_type": "code",
   "execution_count": 8,
   "metadata": {},
   "outputs": [
    {
     "name": "stderr",
     "output_type": "stream",
     "text": [
      "GPU available: True (cuda), used: True\n",
      "TPU available: False, using: 0 TPU cores\n",
      "IPU available: False, using: 0 IPUs\n",
      "HPU available: False, using: 0 HPUs\n"
     ]
    }
   ],
   "source": [
    "# Create an instance of the GraphBEANModule\n",
    "module = GraphBEANModule(\n",
    "    (\"wallets\", \"to\", \"transactions\"),\n",
    "    learning_rate=0.001,\n",
    "    conv_type=TransformerConv,\n",
    "    encoder_layers=10,\n",
    "    decoder_layers=10,\n",
    "    hidden_layers=100,\n",
    ")\n",
    "\n",
    "# Create a PyTorch Lightning Trainer and train the module\n",
    "trainer = L.Trainer(max_epochs=10, accelerator=\"gpu\")\n",
    "\n"
   ]
  },
  {
   "cell_type": "code",
   "execution_count": 9,
   "metadata": {},
   "outputs": [
    {
     "name": "stderr",
     "output_type": "stream",
     "text": [
      "You are using a CUDA device ('NVIDIA GeForce RTX 3090') that has Tensor Cores. To properly utilize them, you should set `torch.set_float32_matmul_precision('medium' | 'high')` which will trade-off precision for performance. For more details, read https://pytorch.org/docs/stable/generated/torch.set_float32_matmul_precision.html#torch.set_float32_matmul_precision\n",
      "Missing logger folder: /home/marcel/Documents/research/FinTorch/docs/tutorials/graphbean/lightning_logs\n"
     ]
    },
    {
     "name": "stdout",
     "output_type": "stream",
     "text": [
      "Start download from HuggingFace...\n"
     ]
    },
    {
     "name": "stderr",
     "output_type": "stream",
     "text": [
      "100%|██████████| 7/7 [00:00<00:00,  8.79it/s]\n",
      "LOCAL_RANK: 0 - CUDA_VISIBLE_DEVICES: [0]\n",
      "/home/marcel/Documents/research/FinTorch/.conda/lib/python3.11/site-packages/lightning/pytorch/utilities/model_summary/model_summary.py:454: A layer with UninitializedParameter was found. Thus, the total number of parameters detected may be inaccurate.\n",
      "\n",
      "  | Name      | Type                      | Params\n",
      "--------------------------------------------------------\n",
      "0 | accuracy  | MulticlassAccuracy        | 0     \n",
      "1 | f1        | MulticlassF1Score         | 0     \n",
      "2 | recall    | MulticlassRecall          | 0     \n",
      "3 | precision | MulticlassPrecision       | 0     \n",
      "4 | confmat   | MulticlassConfusionMatrix | 0     \n",
      "5 | aucroc    | MulticlassAUROC           | 0     \n",
      "6 | model     | GraphBEAN                 | 3.2 M \n",
      "--------------------------------------------------------\n",
      "3.2 M     Trainable params\n",
      "0         Non-trainable params\n",
      "3.2 M     Total params\n",
      "12.669    Total estimated model params size (MB)\n"
     ]
    },
    {
     "data": {
      "application/vnd.jupyter.widget-view+json": {
       "model_id": "6241b60d5fa14a29bbb1f4cae941b7a3",
       "version_major": 2,
       "version_minor": 0
      },
      "text/plain": [
       "Sanity Checking: |          | 0/? [00:00<?, ?it/s]"
      ]
     },
     "metadata": {},
     "output_type": "display_data"
    },
    {
     "data": {
      "application/vnd.jupyter.widget-view+json": {
       "model_id": "d34aac9a55324d77bf723592853a8001",
       "version_major": 2,
       "version_minor": 0
      },
      "text/plain": [
       "Training: |          | 0/? [00:00<?, ?it/s]"
      ]
     },
     "metadata": {},
     "output_type": "display_data"
    },
    {
     "data": {
      "application/vnd.jupyter.widget-view+json": {
       "model_id": "b2c8999ebd264539b1c587f9e18b2cdc",
       "version_major": 2,
       "version_minor": 0
      },
      "text/plain": [
       "Validation: |          | 0/? [00:00<?, ?it/s]"
      ]
     },
     "metadata": {},
     "output_type": "display_data"
    },
    {
     "name": "stderr",
     "output_type": "stream",
     "text": [
      "/home/marcel/Documents/research/FinTorch/.conda/lib/python3.11/site-packages/lightning/pytorch/trainer/call.py:54: Detected KeyboardInterrupt, attempting graceful shutdown...\n"
     ]
    }
   ],
   "source": [
    "# Train the module using the dataloaders\n",
    "trainer.fit(module, datamodule=data_module)"
   ]
  }
 ],
 "metadata": {
  "kernelspec": {
   "display_name": "Python 3 (ipykernel)",
   "language": "python",
   "name": "python3"
  },
  "language_info": {
   "codemirror_mode": {
    "name": "ipython",
    "version": 3
   },
   "file_extension": ".py",
   "mimetype": "text/x-python",
   "name": "python",
   "nbconvert_exporter": "python",
   "pygments_lexer": "ipython3",
   "version": "3.11.7"
  }
 },
 "nbformat": 4,
 "nbformat_minor": 4
}
